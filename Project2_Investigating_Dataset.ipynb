{
 "cells": [
  {
   "cell_type": "markdown",
   "metadata": {},
   "source": [
    "### Rahel Ghebrekidan\n",
    "### Udacity \n",
    "### Data Analyst Nanodegree\n",
    "### Project 2. Investigating Dataset \n",
    "#### June 26, 2016 \n",
    "\n",
    "\n",
    "## 1. Introduction\n",
    "\n",
    "In this project I am analyzing the Titanic Dataset obtained from kaggle.com. The dataset presents a sample information of the population aboard in the RMS Titanic ship, which sank on April 15, 1912. There were 2224 people in the ship out of which 1502 were killed in the accident while 722 survived. I am interested to examine the questions below. I have used pandas, numpy, seaborn, matplotlib, pylab and scipy dictionaries to supplement my analysis.\n",
    "\n",
    "I investigated the data to see some factors that might have influenced the survival of the passengers.                                                \n",
    "•\tDid sex have effect on survival?                                       \n",
    "•\tDid age of the passengers have any contribution on survival?           \n",
    "•\tWas priority given to rescue children?                    \n",
    "•\tDid survival and socio-economic class have any correlation?            \n",
    "•\tDoes the amount of fare paid by each passenger has any relation with the passenger's survival? \n",
    "## 1.2 Overview of the Dataset\n",
    "\n",
    "### Variables Description\n",
    "\n",
    "The dataset is a sample of 891 passengers.The dataset has 12 variables. These are:\n",
    "1. PassengerId:- consecutive integer number assigned to each individual starting from 1.\n",
    "2. Survived:- shows either the individual survived from the accident or did not survive. The values for this variable are              1 and 0. 1 represents survived and 0 is for not survived.\n",
    "3. Pclass:- passenger's Socio-economic class ( where 1= 1st class(upper class), 2 = 2nd class(middle class and 3 = 3rd            class(lower class)\n",
    "4. Sex: passenger's sex\n",
    "5. Name :- name of passenger \n",
    "6. Age: Age of passenger in years\n",
    "7. SibSp :- number of siblings or spouse on- board \n",
    "8. Parch :-  number of parents or number of children on- boord \n",
    "9. Ticket:- Ticket number \n",
    "10. Fare:- Ticket fare in pounds.\n",
    "11. Cabin :- passenger's cabin number \n",
    "12. Embarked:- port of embarked. There are three ports in the dataset represented with C, Q and S where C = Cherbourg\n",
    "   Q = Queenstown  S = Southampton)\n",
    "   \n",
    "##### Opening the titanic dataset from CSV file"
   ]
  },
  {
   "cell_type": "code",
   "execution_count": 1480,
   "metadata": {
    "collapsed": false
   },
   "outputs": [
    {
     "data": {
      "text/html": [
       "<div>\n",
       "<table border=\"1\" class=\"dataframe\">\n",
       "  <thead>\n",
       "    <tr style=\"text-align: right;\">\n",
       "      <th></th>\n",
       "      <th>PassengerId</th>\n",
       "      <th>Survived</th>\n",
       "      <th>Pclass</th>\n",
       "      <th>Name</th>\n",
       "      <th>Sex</th>\n",
       "      <th>Age</th>\n",
       "      <th>SibSp</th>\n",
       "      <th>Parch</th>\n",
       "      <th>Ticket</th>\n",
       "      <th>Fare</th>\n",
       "      <th>Cabin</th>\n",
       "      <th>Embarked</th>\n",
       "    </tr>\n",
       "  </thead>\n",
       "  <tbody>\n",
       "    <tr>\n",
       "      <th>0</th>\n",
       "      <td>1</td>\n",
       "      <td>0</td>\n",
       "      <td>3</td>\n",
       "      <td>Braund, Mr. Owen Harris</td>\n",
       "      <td>male</td>\n",
       "      <td>22.0</td>\n",
       "      <td>1</td>\n",
       "      <td>0</td>\n",
       "      <td>A/5 21171</td>\n",
       "      <td>7.2500</td>\n",
       "      <td>NaN</td>\n",
       "      <td>S</td>\n",
       "    </tr>\n",
       "    <tr>\n",
       "      <th>1</th>\n",
       "      <td>2</td>\n",
       "      <td>1</td>\n",
       "      <td>1</td>\n",
       "      <td>Cumings, Mrs. John Bradley (Florence Briggs Th...</td>\n",
       "      <td>female</td>\n",
       "      <td>38.0</td>\n",
       "      <td>1</td>\n",
       "      <td>0</td>\n",
       "      <td>PC 17599</td>\n",
       "      <td>71.2833</td>\n",
       "      <td>C85</td>\n",
       "      <td>C</td>\n",
       "    </tr>\n",
       "    <tr>\n",
       "      <th>2</th>\n",
       "      <td>3</td>\n",
       "      <td>1</td>\n",
       "      <td>3</td>\n",
       "      <td>Heikkinen, Miss. Laina</td>\n",
       "      <td>female</td>\n",
       "      <td>26.0</td>\n",
       "      <td>0</td>\n",
       "      <td>0</td>\n",
       "      <td>STON/O2. 3101282</td>\n",
       "      <td>7.9250</td>\n",
       "      <td>NaN</td>\n",
       "      <td>S</td>\n",
       "    </tr>\n",
       "    <tr>\n",
       "      <th>3</th>\n",
       "      <td>4</td>\n",
       "      <td>1</td>\n",
       "      <td>1</td>\n",
       "      <td>Futrelle, Mrs. Jacques Heath (Lily May Peel)</td>\n",
       "      <td>female</td>\n",
       "      <td>35.0</td>\n",
       "      <td>1</td>\n",
       "      <td>0</td>\n",
       "      <td>113803</td>\n",
       "      <td>53.1000</td>\n",
       "      <td>C123</td>\n",
       "      <td>S</td>\n",
       "    </tr>\n",
       "    <tr>\n",
       "      <th>4</th>\n",
       "      <td>5</td>\n",
       "      <td>0</td>\n",
       "      <td>3</td>\n",
       "      <td>Allen, Mr. William Henry</td>\n",
       "      <td>male</td>\n",
       "      <td>35.0</td>\n",
       "      <td>0</td>\n",
       "      <td>0</td>\n",
       "      <td>373450</td>\n",
       "      <td>8.0500</td>\n",
       "      <td>NaN</td>\n",
       "      <td>S</td>\n",
       "    </tr>\n",
       "  </tbody>\n",
       "</table>\n",
       "</div>"
      ],
      "text/plain": [
       "   PassengerId  Survived  Pclass  \\\n",
       "0            1         0       3   \n",
       "1            2         1       1   \n",
       "2            3         1       3   \n",
       "3            4         1       1   \n",
       "4            5         0       3   \n",
       "\n",
       "                                                Name     Sex   Age  SibSp  \\\n",
       "0                            Braund, Mr. Owen Harris    male  22.0      1   \n",
       "1  Cumings, Mrs. John Bradley (Florence Briggs Th...  female  38.0      1   \n",
       "2                             Heikkinen, Miss. Laina  female  26.0      0   \n",
       "3       Futrelle, Mrs. Jacques Heath (Lily May Peel)  female  35.0      1   \n",
       "4                           Allen, Mr. William Henry    male  35.0      0   \n",
       "\n",
       "   Parch            Ticket     Fare Cabin Embarked  \n",
       "0      0         A/5 21171   7.2500   NaN        S  \n",
       "1      0          PC 17599  71.2833   C85        C  \n",
       "2      0  STON/O2. 3101282   7.9250   NaN        S  \n",
       "3      0            113803  53.1000  C123        S  \n",
       "4      0            373450   8.0500   NaN        S  "
      ]
     },
     "execution_count": 1480,
     "metadata": {},
     "output_type": "execute_result"
    }
   ],
   "source": [
    "import pandas as pd\n",
    "import numpy as nb\n",
    "import seaborn as sns\n",
    "titanic_dataframe = pd.read_csv('titanic_data.csv')\n",
    "titanic_dataframe.head()"
   ]
  },
  {
   "cell_type": "code",
   "execution_count": 1485,
   "metadata": {
    "collapsed": false
   },
   "outputs": [
    {
     "name": "stdout",
     "output_type": "stream",
     "text": [
      "<class 'pandas.core.frame.DataFrame'>\n",
      "RangeIndex: 891 entries, 0 to 890\n",
      "Data columns (total 12 columns):\n",
      "PassengerId    891 non-null int64\n",
      "Survived       891 non-null int64\n",
      "Pclass         891 non-null int64\n",
      "Name           891 non-null object\n",
      "Sex            891 non-null object\n",
      "Age            714 non-null float64\n",
      "SibSp          891 non-null int64\n",
      "Parch          891 non-null int64\n",
      "Ticket         891 non-null object\n",
      "Fare           891 non-null float64\n",
      "Cabin          204 non-null object\n",
      "Embarked       889 non-null object\n",
      "dtypes: float64(2), int64(5), object(5)\n",
      "memory usage: 83.6+ KB\n"
     ]
    }
   ],
   "source": [
    "titanic_dataframe.info()"
   ]
  },
  {
   "cell_type": "markdown",
   "metadata": {},
   "source": [
    "##### Checking the number of rows and columns"
   ]
  },
  {
   "cell_type": "code",
   "execution_count": 1486,
   "metadata": {
    "collapsed": false
   },
   "outputs": [
    {
     "data": {
      "text/plain": [
       "(891, 12)"
      ]
     },
     "execution_count": 1486,
     "metadata": {},
     "output_type": "execute_result"
    }
   ],
   "source": [
    "titanic_dataframe.shape"
   ]
  },
  {
   "cell_type": "markdown",
   "metadata": {},
   "source": [
    "There are 891 rows(cases) ad 12 columns(variables) in the dataset."
   ]
  },
  {
   "cell_type": "markdown",
   "metadata": {},
   "source": [
    "##### Datatype of Variables "
   ]
  },
  {
   "cell_type": "code",
   "execution_count": 1487,
   "metadata": {
    "collapsed": false,
    "scrolled": true
   },
   "outputs": [
    {
     "data": {
      "text/plain": [
       "PassengerId      int64\n",
       "Survived         int64\n",
       "Pclass           int64\n",
       "Name            object\n",
       "Sex             object\n",
       "Age            float64\n",
       "SibSp            int64\n",
       "Parch            int64\n",
       "Ticket          object\n",
       "Fare           float64\n",
       "Cabin           object\n",
       "Embarked        object\n",
       "dtype: object"
      ]
     },
     "execution_count": 1487,
     "metadata": {},
     "output_type": "execute_result"
    }
   ],
   "source": [
    "titanic_dataframe.dtypes"
   ]
  },
  {
   "cell_type": "markdown",
   "metadata": {},
   "source": [
    "##### Basic Statistics  "
   ]
  },
  {
   "cell_type": "code",
   "execution_count": 1488,
   "metadata": {
    "collapsed": false
   },
   "outputs": [
    {
     "data": {
      "text/html": [
       "<div>\n",
       "<table border=\"1\" class=\"dataframe\">\n",
       "  <thead>\n",
       "    <tr style=\"text-align: right;\">\n",
       "      <th></th>\n",
       "      <th>Age</th>\n",
       "      <th>Fare</th>\n",
       "    </tr>\n",
       "  </thead>\n",
       "  <tbody>\n",
       "    <tr>\n",
       "      <th>count</th>\n",
       "      <td>714.000000</td>\n",
       "      <td>891.000000</td>\n",
       "    </tr>\n",
       "    <tr>\n",
       "      <th>mean</th>\n",
       "      <td>29.699118</td>\n",
       "      <td>32.204208</td>\n",
       "    </tr>\n",
       "    <tr>\n",
       "      <th>std</th>\n",
       "      <td>14.526497</td>\n",
       "      <td>49.693429</td>\n",
       "    </tr>\n",
       "    <tr>\n",
       "      <th>min</th>\n",
       "      <td>0.420000</td>\n",
       "      <td>0.000000</td>\n",
       "    </tr>\n",
       "    <tr>\n",
       "      <th>25%</th>\n",
       "      <td>20.125000</td>\n",
       "      <td>7.910400</td>\n",
       "    </tr>\n",
       "    <tr>\n",
       "      <th>50%</th>\n",
       "      <td>28.000000</td>\n",
       "      <td>14.454200</td>\n",
       "    </tr>\n",
       "    <tr>\n",
       "      <th>75%</th>\n",
       "      <td>38.000000</td>\n",
       "      <td>31.000000</td>\n",
       "    </tr>\n",
       "    <tr>\n",
       "      <th>max</th>\n",
       "      <td>80.000000</td>\n",
       "      <td>512.329200</td>\n",
       "    </tr>\n",
       "  </tbody>\n",
       "</table>\n",
       "</div>"
      ],
      "text/plain": [
       "              Age        Fare\n",
       "count  714.000000  891.000000\n",
       "mean    29.699118   32.204208\n",
       "std     14.526497   49.693429\n",
       "min      0.420000    0.000000\n",
       "25%     20.125000    7.910400\n",
       "50%     28.000000   14.454200\n",
       "75%     38.000000   31.000000\n",
       "max     80.000000  512.329200"
      ]
     },
     "execution_count": 1488,
     "metadata": {},
     "output_type": "execute_result"
    }
   ],
   "source": [
    "titanic_dataframe[['Age','Fare']].describe()"
   ]
  },
  {
   "cell_type": "markdown",
   "metadata": {},
   "source": [
    "The mean age of the passengers was 29.70. The youngest passenger's age was 42 days old and the oldest age was 80 years old. The mean fare paid was £32.20 with standard deviation of 49.69 while the maximum fare was £512.33 whereas some passengers who did not pay any.\n"
   ]
  },
  {
   "cell_type": "markdown",
   "metadata": {},
   "source": [
    "# 2. Data Cleaning "
   ]
  },
  {
   "cell_type": "markdown",
   "metadata": {},
   "source": [
    "The dataset has some missing values and those values have to be handled."
   ]
  },
  {
   "cell_type": "markdown",
   "metadata": {},
   "source": [
    "## 2.1 Variables with missing values"
   ]
  },
  {
   "cell_type": "code",
   "execution_count": 1489,
   "metadata": {
    "collapsed": false
   },
   "outputs": [
    {
     "data": {
      "text/plain": [
       "PassengerId      0\n",
       "Survived         0\n",
       "Pclass           0\n",
       "Name             0\n",
       "Sex              0\n",
       "Age            177\n",
       "SibSp            0\n",
       "Parch            0\n",
       "Ticket           0\n",
       "Fare             0\n",
       "Cabin          687\n",
       "Embarked         2\n",
       "dtype: int64"
      ]
     },
     "execution_count": 1489,
     "metadata": {},
     "output_type": "execute_result"
    }
   ],
   "source": [
    "titanic_dataframe.isnull().sum()"
   ]
  },
  {
   "cell_type": "markdown",
   "metadata": {},
   "source": [
    "There are 177 cases with missing age, 687 cases with missing Cabin number and 2 cases with missing port of Embarked."
   ]
  },
  {
   "cell_type": "markdown",
   "metadata": {},
   "source": [
    "## 2.2 Computing Missing Age Values"
   ]
  },
  {
   "cell_type": "markdown",
   "metadata": {},
   "source": [
    "The dataset has 177 cases with age missing. In order to compute the missing values, it is preferable to see the age distribution and the mean age for female and male. "
   ]
  },
  {
   "cell_type": "markdown",
   "metadata": {},
   "source": [
    "#### Distribution of Age"
   ]
  },
  {
   "cell_type": "code",
   "execution_count": 1490,
   "metadata": {
    "collapsed": false,
    "scrolled": false
   },
   "outputs": [
    {
     "data": {
      "text/plain": [
       "<matplotlib.axes._subplots.AxesSubplot at 0x25e04e10>"
      ]
     },
     "execution_count": 1490,
     "metadata": {},
     "output_type": "execute_result"
    },
    {
     "data": {
      "image/png": "[encoded data removed]",
      "text/plain": [
       "<matplotlib.figure.Figure at 0x25b37898>"
      ]
     },
     "metadata": {},
     "output_type": "display_data"
    }
   ],
   "source": [
    "%matplotlib inline\n",
    "import matplotlib.pyplot as plt\n",
    "titanic_dataframe['Age'].dropna().hist(bins=16, range=(0,80), alpha = 1.0)\n",
    "                                "
   ]
  },
  {
   "cell_type": "markdown",
   "metadata": {},
   "source": [
    "#### Average age by sex"
   ]
  },
  {
   "cell_type": "code",
   "execution_count": 1491,
   "metadata": {
    "collapsed": false,
    "scrolled": true
   },
   "outputs": [
    {
     "data": {
      "text/plain": [
       "27.915708812260537"
      ]
     },
     "execution_count": 1491,
     "metadata": {},
     "output_type": "execute_result"
    }
   ],
   "source": [
    "female_mean_age= titanic_dataframe[(titanic_dataframe.Sex=='female')& titanic_dataframe.Age]\n",
    "female_mean_age.Age.mean()"
   ]
  },
  {
   "cell_type": "code",
   "execution_count": 1492,
   "metadata": {
    "collapsed": false
   },
   "outputs": [
    {
     "data": {
      "text/plain": [
       "30.72664459161148"
      ]
     },
     "execution_count": 1492,
     "metadata": {},
     "output_type": "execute_result"
    }
   ],
   "source": [
    "male_mean_age= titanic_dataframe[(titanic_dataframe.Sex=='male')& titanic_dataframe.Age]\n",
    "male_mean_age.Age.mean()"
   ]
  },
  {
   "cell_type": "markdown",
   "metadata": {},
   "source": [
    "The graph shows the age distribution is approximately normal.The mean age is 28.2 for females and 30.51 for males which has insignificant difference. So, I will replace the age missing values with the sample average mean.\n",
    "\n",
    "I will create new variable to compute the missing age so that the raw age data will be kept as it is."
   ]
  },
  {
   "cell_type": "code",
   "execution_count": 1493,
   "metadata": {
    "collapsed": false
   },
   "outputs": [
    {
     "data": {
      "text/html": [
       "<div>\n",
       "<table border=\"1\" class=\"dataframe\">\n",
       "  <thead>\n",
       "    <tr style=\"text-align: right;\">\n",
       "      <th></th>\n",
       "      <th>PassengerId</th>\n",
       "      <th>Survived</th>\n",
       "      <th>Pclass</th>\n",
       "      <th>Name</th>\n",
       "      <th>Sex</th>\n",
       "      <th>Age</th>\n",
       "      <th>SibSp</th>\n",
       "      <th>Parch</th>\n",
       "      <th>Ticket</th>\n",
       "      <th>Fare</th>\n",
       "      <th>Cabin</th>\n",
       "      <th>Embarked</th>\n",
       "      <th>Passengers_age</th>\n",
       "    </tr>\n",
       "  </thead>\n",
       "  <tbody>\n",
       "    <tr>\n",
       "      <th>0</th>\n",
       "      <td>1</td>\n",
       "      <td>0</td>\n",
       "      <td>3</td>\n",
       "      <td>Braund, Mr. Owen Harris</td>\n",
       "      <td>male</td>\n",
       "      <td>22.0</td>\n",
       "      <td>1</td>\n",
       "      <td>0</td>\n",
       "      <td>A/5 21171</td>\n",
       "      <td>7.2500</td>\n",
       "      <td>NaN</td>\n",
       "      <td>S</td>\n",
       "      <td>22.0</td>\n",
       "    </tr>\n",
       "    <tr>\n",
       "      <th>1</th>\n",
       "      <td>2</td>\n",
       "      <td>1</td>\n",
       "      <td>1</td>\n",
       "      <td>Cumings, Mrs. John Bradley (Florence Briggs Th...</td>\n",
       "      <td>female</td>\n",
       "      <td>38.0</td>\n",
       "      <td>1</td>\n",
       "      <td>0</td>\n",
       "      <td>PC 17599</td>\n",
       "      <td>71.2833</td>\n",
       "      <td>C85</td>\n",
       "      <td>C</td>\n",
       "      <td>38.0</td>\n",
       "    </tr>\n",
       "    <tr>\n",
       "      <th>2</th>\n",
       "      <td>3</td>\n",
       "      <td>1</td>\n",
       "      <td>3</td>\n",
       "      <td>Heikkinen, Miss. Laina</td>\n",
       "      <td>female</td>\n",
       "      <td>26.0</td>\n",
       "      <td>0</td>\n",
       "      <td>0</td>\n",
       "      <td>STON/O2. 3101282</td>\n",
       "      <td>7.9250</td>\n",
       "      <td>NaN</td>\n",
       "      <td>S</td>\n",
       "      <td>26.0</td>\n",
       "    </tr>\n",
       "    <tr>\n",
       "      <th>3</th>\n",
       "      <td>4</td>\n",
       "      <td>1</td>\n",
       "      <td>1</td>\n",
       "      <td>Futrelle, Mrs. Jacques Heath (Lily May Peel)</td>\n",
       "      <td>female</td>\n",
       "      <td>35.0</td>\n",
       "      <td>1</td>\n",
       "      <td>0</td>\n",
       "      <td>113803</td>\n",
       "      <td>53.1000</td>\n",
       "      <td>C123</td>\n",
       "      <td>S</td>\n",
       "      <td>35.0</td>\n",
       "    </tr>\n",
       "    <tr>\n",
       "      <th>4</th>\n",
       "      <td>5</td>\n",
       "      <td>0</td>\n",
       "      <td>3</td>\n",
       "      <td>Allen, Mr. William Henry</td>\n",
       "      <td>male</td>\n",
       "      <td>35.0</td>\n",
       "      <td>0</td>\n",
       "      <td>0</td>\n",
       "      <td>373450</td>\n",
       "      <td>8.0500</td>\n",
       "      <td>NaN</td>\n",
       "      <td>S</td>\n",
       "      <td>35.0</td>\n",
       "    </tr>\n",
       "  </tbody>\n",
       "</table>\n",
       "</div>"
      ],
      "text/plain": [
       "   PassengerId  Survived  Pclass  \\\n",
       "0            1         0       3   \n",
       "1            2         1       1   \n",
       "2            3         1       3   \n",
       "3            4         1       1   \n",
       "4            5         0       3   \n",
       "\n",
       "                                                Name     Sex   Age  SibSp  \\\n",
       "0                            Braund, Mr. Owen Harris    male  22.0      1   \n",
       "1  Cumings, Mrs. John Bradley (Florence Briggs Th...  female  38.0      1   \n",
       "2                             Heikkinen, Miss. Laina  female  26.0      0   \n",
       "3       Futrelle, Mrs. Jacques Heath (Lily May Peel)  female  35.0      1   \n",
       "4                           Allen, Mr. William Henry    male  35.0      0   \n",
       "\n",
       "   Parch            Ticket     Fare Cabin Embarked  Passengers_age  \n",
       "0      0         A/5 21171   7.2500   NaN        S            22.0  \n",
       "1      0          PC 17599  71.2833   C85        C            38.0  \n",
       "2      0  STON/O2. 3101282   7.9250   NaN        S            26.0  \n",
       "3      0            113803  53.1000  C123        S            35.0  \n",
       "4      0            373450   8.0500   NaN        S            35.0  "
      ]
     },
     "execution_count": 1493,
     "metadata": {},
     "output_type": "execute_result"
    }
   ],
   "source": [
    "titanic_dataframe['Passengers_age'] = titanic_dataframe['Age']\n",
    "titanic_dataframe.head()"
   ]
  },
  {
   "cell_type": "code",
   "execution_count": 1494,
   "metadata": {
    "collapsed": false
   },
   "outputs": [
    {
     "data": {
      "text/plain": [
       "29.69911764705882"
      ]
     },
     "execution_count": 1494,
     "metadata": {},
     "output_type": "execute_result"
    }
   ],
   "source": [
    "average_age = titanic_dataframe.Passengers_age.mean()\n",
    "average_age"
   ]
  },
  {
   "cell_type": "code",
   "execution_count": 1495,
   "metadata": {
    "collapsed": false
   },
   "outputs": [],
   "source": [
    "titanic_dataframe.Passengers_age = titanic_dataframe.Passengers_age.fillna(value=average_age)"
   ]
  },
  {
   "cell_type": "markdown",
   "metadata": {},
   "source": [
    "#### Checking if all the missing age values are filled with the average age"
   ]
  },
  {
   "cell_type": "code",
   "execution_count": 1496,
   "metadata": {
    "collapsed": false
   },
   "outputs": [
    {
     "data": {
      "text/html": [
       "<div>\n",
       "<table border=\"1\" class=\"dataframe\">\n",
       "  <thead>\n",
       "    <tr style=\"text-align: right;\">\n",
       "      <th></th>\n",
       "      <th>PassengerId</th>\n",
       "      <th>Survived</th>\n",
       "      <th>Pclass</th>\n",
       "      <th>Name</th>\n",
       "      <th>Sex</th>\n",
       "      <th>Age</th>\n",
       "      <th>SibSp</th>\n",
       "      <th>Parch</th>\n",
       "      <th>Ticket</th>\n",
       "      <th>Fare</th>\n",
       "      <th>Cabin</th>\n",
       "      <th>Embarked</th>\n",
       "      <th>Passengers_age</th>\n",
       "    </tr>\n",
       "  </thead>\n",
       "  <tbody>\n",
       "  </tbody>\n",
       "</table>\n",
       "</div>"
      ],
      "text/plain": [
       "Empty DataFrame\n",
       "Columns: [PassengerId, Survived, Pclass, Name, Sex, Age, SibSp, Parch, Ticket, Fare, Cabin, Embarked, Passengers_age]\n",
       "Index: []"
      ]
     },
     "execution_count": 1496,
     "metadata": {},
     "output_type": "execute_result"
    }
   ],
   "source": [
    "titanic_dataframe[titanic_dataframe.Passengers_age.isnull()]"
   ]
  },
  {
   "cell_type": "markdown",
   "metadata": {},
   "source": [
    "#### Age variable description before and after computation of missing values"
   ]
  },
  {
   "cell_type": "code",
   "execution_count": 1497,
   "metadata": {
    "collapsed": false,
    "scrolled": true
   },
   "outputs": [
    {
     "data": {
      "text/plain": [
       "count    891.000000\n",
       "mean      29.699118\n",
       "std       13.002015\n",
       "min        0.420000\n",
       "25%       22.000000\n",
       "50%       29.699118\n",
       "75%       35.000000\n",
       "max       80.000000\n",
       "Name: Passengers_age, dtype: float64"
      ]
     },
     "execution_count": 1497,
     "metadata": {},
     "output_type": "execute_result"
    }
   ],
   "source": [
    "titanic_dataframe.Passengers_age.describe()"
   ]
  },
  {
   "cell_type": "code",
   "execution_count": 1498,
   "metadata": {
    "collapsed": false
   },
   "outputs": [
    {
     "data": {
      "text/plain": [
       "count    714.000000\n",
       "mean      29.699118\n",
       "std       14.526497\n",
       "min        0.420000\n",
       "25%       20.125000\n",
       "50%       28.000000\n",
       "75%       38.000000\n",
       "max       80.000000\n",
       "Name: Age, dtype: float64"
      ]
     },
     "execution_count": 1498,
     "metadata": {},
     "output_type": "execute_result"
    }
   ],
   "source": [
    "titanic_dataframe.Age.describe()"
   ]
  },
  {
   "cell_type": "markdown",
   "metadata": {},
   "source": [
    "The missing age values are now replaced with the average age and there are no missing values. The average age is the same with the average before missing computation. The difference in standard deviation and quartiles is insignificant.  "
   ]
  },
  {
   "cell_type": "markdown",
   "metadata": {},
   "source": [
    "## 2.3 Dealing with Cabin Missing Values"
   ]
  },
  {
   "cell_type": "markdown",
   "metadata": {},
   "source": [
    "The missing cabin values are 687 cases. There is no any information which can help to predicate the missing values. So I have decided to fill the missing with 'X99' which represents unknown."
   ]
  },
  {
   "cell_type": "code",
   "execution_count": 1499,
   "metadata": {
    "collapsed": true
   },
   "outputs": [],
   "source": [
    "titanic_dataframe.Cabin = titanic_dataframe.Cabin.fillna(value='X99')"
   ]
  },
  {
   "cell_type": "markdown",
   "metadata": {},
   "source": [
    "There are two missing values in the variable Embarked. I thought that the fare will help to predict these missing value but since the fare is completely different for passengers who even board in the same port, it is difficult to predict the missing value. So I have discussed to fill with 'X' rather than dropping those cases."
   ]
  },
  {
   "cell_type": "code",
   "execution_count": 1500,
   "metadata": {
    "collapsed": false
   },
   "outputs": [
    {
     "data": {
      "text/html": [
       "<div>\n",
       "<table border=\"1\" class=\"dataframe\">\n",
       "  <thead>\n",
       "    <tr style=\"text-align: right;\">\n",
       "      <th></th>\n",
       "      <th>PassengerId</th>\n",
       "      <th>Survived</th>\n",
       "      <th>Pclass</th>\n",
       "      <th>Name</th>\n",
       "      <th>Sex</th>\n",
       "      <th>Age</th>\n",
       "      <th>SibSp</th>\n",
       "      <th>Parch</th>\n",
       "      <th>Ticket</th>\n",
       "      <th>Fare</th>\n",
       "      <th>Cabin</th>\n",
       "      <th>Embarked</th>\n",
       "      <th>Passengers_age</th>\n",
       "    </tr>\n",
       "  </thead>\n",
       "  <tbody>\n",
       "  </tbody>\n",
       "</table>\n",
       "</div>"
      ],
      "text/plain": [
       "Empty DataFrame\n",
       "Columns: [PassengerId, Survived, Pclass, Name, Sex, Age, SibSp, Parch, Ticket, Fare, Cabin, Embarked, Passengers_age]\n",
       "Index: []"
      ]
     },
     "execution_count": 1500,
     "metadata": {},
     "output_type": "execute_result"
    }
   ],
   "source": [
    "titanic_dataframe[titanic_dataframe.Cabin.isnull()]"
   ]
  },
  {
   "cell_type": "markdown",
   "metadata": {},
   "source": [
    "The cabin missing values are filled with X99."
   ]
  },
  {
   "cell_type": "markdown",
   "metadata": {},
   "source": [
    "## 2.4 Handling missing Embarked Values"
   ]
  },
  {
   "cell_type": "markdown",
   "metadata": {},
   "source": [
    "There are two missing value in the Embarked values. As the prediction might not be good to compute the values using the information given, I will refilled the missing values with unknown value('X')."
   ]
  },
  {
   "cell_type": "code",
   "execution_count": 1501,
   "metadata": {
    "collapsed": true
   },
   "outputs": [],
   "source": [
    "titanic_dataframe.Embarked = titanic_dataframe.Embarked.fillna(value='X')"
   ]
  },
  {
   "cell_type": "code",
   "execution_count": 1502,
   "metadata": {
    "collapsed": false,
    "scrolled": true
   },
   "outputs": [
    {
     "data": {
      "text/html": [
       "<div>\n",
       "<table border=\"1\" class=\"dataframe\">\n",
       "  <thead>\n",
       "    <tr style=\"text-align: right;\">\n",
       "      <th></th>\n",
       "      <th>PassengerId</th>\n",
       "      <th>Survived</th>\n",
       "      <th>Pclass</th>\n",
       "      <th>Name</th>\n",
       "      <th>Sex</th>\n",
       "      <th>Age</th>\n",
       "      <th>SibSp</th>\n",
       "      <th>Parch</th>\n",
       "      <th>Ticket</th>\n",
       "      <th>Fare</th>\n",
       "      <th>Cabin</th>\n",
       "      <th>Embarked</th>\n",
       "      <th>Passengers_age</th>\n",
       "    </tr>\n",
       "  </thead>\n",
       "  <tbody>\n",
       "  </tbody>\n",
       "</table>\n",
       "</div>"
      ],
      "text/plain": [
       "Empty DataFrame\n",
       "Columns: [PassengerId, Survived, Pclass, Name, Sex, Age, SibSp, Parch, Ticket, Fare, Cabin, Embarked, Passengers_age]\n",
       "Index: []"
      ]
     },
     "execution_count": 1502,
     "metadata": {},
     "output_type": "execute_result"
    }
   ],
   "source": [
    "titanic_dataframe[titanic_dataframe.Embarked.isnull()]"
   ]
  },
  {
   "cell_type": "markdown",
   "metadata": {},
   "source": [
    "All the missing values are now filled."
   ]
  },
  {
   "cell_type": "markdown",
   "metadata": {},
   "source": [
    "# 3. Survival and Factors Affecting Survival"
   ]
  },
  {
   "cell_type": "markdown",
   "metadata": {},
   "source": [
    "## 3.1 Percentage of Survived passengers"
   ]
  },
  {
   "cell_type": "markdown",
   "metadata": {},
   "source": [
    "According to the Kaggle information, 1502 out 2224 passengers and crew members were killed. The number of survivals were 722."
   ]
  },
  {
   "cell_type": "markdown",
   "metadata": {},
   "source": [
    "Adding new variable with Survived category"
   ]
  },
  {
   "cell_type": "code",
   "execution_count": 1503,
   "metadata": {
    "collapsed": false
   },
   "outputs": [],
   "source": [
    "Passengers_survival= pd.Categorical(titanic_dataframe[\"Survived\"])\n",
    "Passengers_survival = Passengers_survival.rename_categories([\"Not Survived\",\"Survived\"])\n"
   ]
  },
  {
   "cell_type": "code",
   "execution_count": 1504,
   "metadata": {
    "collapsed": false
   },
   "outputs": [
    {
     "data": {
      "text/html": [
       "<div>\n",
       "<table border=\"1\" class=\"dataframe\">\n",
       "  <thead>\n",
       "    <tr style=\"text-align: right;\">\n",
       "      <th></th>\n",
       "      <th>counts</th>\n",
       "      <th>freqs</th>\n",
       "    </tr>\n",
       "    <tr>\n",
       "      <th>categories</th>\n",
       "      <th></th>\n",
       "      <th></th>\n",
       "    </tr>\n",
       "  </thead>\n",
       "  <tbody>\n",
       "    <tr>\n",
       "      <th>Not Survived</th>\n",
       "      <td>549</td>\n",
       "      <td>0.616162</td>\n",
       "    </tr>\n",
       "    <tr>\n",
       "      <th>Survived</th>\n",
       "      <td>342</td>\n",
       "      <td>0.383838</td>\n",
       "    </tr>\n",
       "  </tbody>\n",
       "</table>\n",
       "</div>"
      ],
      "text/plain": [
       "              counts     freqs\n",
       "categories                    \n",
       "Not Survived     549  0.616162\n",
       "Survived         342  0.383838"
      ]
     },
     "execution_count": 1504,
     "metadata": {},
     "output_type": "execute_result"
    }
   ],
   "source": [
    "titanic_dataframe['Passengers_survival']= pd.Categorical(titanic_dataframe[\"Survived\"])\n",
    "titanic_dataframe['Passengers_survival'] = Passengers_survival.rename_categories([\"Not Survived\",\"Survived\"])\n",
    "Passengers_survival.describe()"
   ]
  },
  {
   "cell_type": "markdown",
   "metadata": {},
   "source": [
    "According to our sample, 38.38% of the passengers survived. "
   ]
  },
  {
   "cell_type": "code",
   "execution_count": 1505,
   "metadata": {
    "collapsed": false,
    "scrolled": false
   },
   "outputs": [
    {
     "data": {
      "text/plain": [
       "<matplotlib.axes._subplots.AxesSubplot at 0x25e19e10>"
      ]
     },
     "execution_count": 1505,
     "metadata": {},
     "output_type": "execute_result"
    },
    {
     "data": {
      "image/png": "[encoded data removed]",
      "text/plain": [
       "<matplotlib.figure.Figure at 0x25e04898>"
      ]
     },
     "metadata": {},
     "output_type": "display_data"
    }
   ],
   "source": [
    "titanic_dataframe[titanic_dataframe.Sex=='male'].Passengers_survival.value_counts().plot(kind='bar')"
   ]
  },
  {
   "cell_type": "markdown",
   "metadata": {},
   "source": [
    "Let the the population number of passengers in the titanic be population_Number and the number of population survived be population_Survived_Number and the population survived percentage be the Percentage_Survived. "
   ]
  },
  {
   "cell_type": "code",
   "execution_count": 1506,
   "metadata": {
    "collapsed": true
   },
   "outputs": [],
   "source": [
    "Population_Number = 2224.0"
   ]
  },
  {
   "cell_type": "code",
   "execution_count": 1507,
   "metadata": {
    "collapsed": true
   },
   "outputs": [],
   "source": [
    "Population_Survived_Number = 722 "
   ]
  },
  {
   "cell_type": "code",
   "execution_count": 1508,
   "metadata": {
    "collapsed": false
   },
   "outputs": [
    {
     "data": {
      "text/plain": [
       "32.46402877697842"
      ]
     },
     "execution_count": 1508,
     "metadata": {},
     "output_type": "execute_result"
    }
   ],
   "source": [
    "Percentage_Survived = (Population_Survived_Number/Population_Number)*100\n",
    "Percentage_Survived\n"
   ]
  },
  {
   "cell_type": "markdown",
   "metadata": {},
   "source": [
    "The population pecentage of survived passesngers is 32.46% and the sample percentage of survived passengers is 38.38%. The difference between the two percentages is small. This shows the sample is a representative sample."
   ]
  },
  {
   "cell_type": "markdown",
   "metadata": {},
   "source": [
    "### 3.2 Statistical Test Preference\n",
    "\n",
    "I have assumed that the sample is simple random sample. Most of the variables are catagorical variables and for those numerical variables, I will catogorize them for better analysis. Hence, I am going to use Chi-Square test of indepence to check the relationship between the factors I have chosen and survival."
   ]
  },
  {
   "cell_type": "markdown",
   "metadata": {},
   "source": [
    "### 3.3 List of Factors that May Affect Survival "
   ]
  },
  {
   "cell_type": "markdown",
   "metadata": {},
   "source": [
    "Did the 38.38% passengers survived by chance or there were some factors that affected their survival?\n",
    "\n",
    "Theoretically the ship could have carried enough lifeboats. Even the chief designer Alexander Carlisle originally planned 48 lifeboats but the number of lifeboats was made 20 to just make it look beautiful and spacious. The 20 lifeboats too small for all hence they might have prioritized to save some and leave otheres.In many accidents people tend to rescue children and female first, this might be true in this incident. Being rich and part of higher socio-economic class, boarded with family members might have also some effect in getting access to the lifeboats. So with the given dataset, I checked if the below factors are related to survival.\n",
    "1. Sex \n",
    "2. Age\n",
    "3. Fare paid\n",
    "4. Socio-Economic Class \n",
    "5. Number of family members on board\n",
    "\n"
   ]
  },
  {
   "cell_type": "markdown",
   "metadata": {},
   "source": [
    " ## 3.3.1 Sex and Survival "
   ]
  },
  {
   "cell_type": "markdown",
   "metadata": {},
   "source": [
    "### Distribution by Sex"
   ]
  },
  {
   "cell_type": "code",
   "execution_count": 1509,
   "metadata": {
    "collapsed": false
   },
   "outputs": [
    {
     "data": {
      "text/plain": [
       "male      577\n",
       "female    314\n",
       "Name: Sex, dtype: int64"
      ]
     },
     "execution_count": 1509,
     "metadata": {},
     "output_type": "execute_result"
    }
   ],
   "source": [
    "titanic_dataframe['Sex'].value_counts()"
   ]
  },
  {
   "cell_type": "code",
   "execution_count": 1510,
   "metadata": {
    "collapsed": true
   },
   "outputs": [],
   "source": [
    "n=891.0"
   ]
  },
  {
   "cell_type": "code",
   "execution_count": 1511,
   "metadata": {
    "collapsed": false
   },
   "outputs": [
    {
     "data": {
      "text/plain": [
       "male      64.758698\n",
       "female    35.241302\n",
       "Name: Sex, dtype: float64"
      ]
     },
     "execution_count": 1511,
     "metadata": {},
     "output_type": "execute_result"
    }
   ],
   "source": [
    "((titanic_dataframe['Sex'].value_counts())/n)*100"
   ]
  },
  {
   "cell_type": "markdown",
   "metadata": {},
   "source": [
    "Out of 891 passengers and crew in the sample, 577 were male and 314 were female which is 64.75% and 35.24% males and females respectively."
   ]
  },
  {
   "cell_type": "code",
   "execution_count": 1512,
   "metadata": {
    "collapsed": false,
    "scrolled": false
   },
   "outputs": [
    {
     "data": {
      "text/plain": [
       "<matplotlib.axes._subplots.AxesSubplot at 0x2612ff60>"
      ]
     },
     "execution_count": 1512,
     "metadata": {},
     "output_type": "execute_result"
    },
    {
     "data": {
      "image/png": "[encoded data removed]",
      "text/plain": [
       "<matplotlib.figure.Figure at 0x25b215f8>"
      ]
     },
     "metadata": {},
     "output_type": "display_data"
    }
   ],
   "source": [
    "%matplotlib inline\n",
    "titanic_dataframe['Sex'].value_counts().plot(kind='bar',title= 'Number of passengers by Sex',color = 'G')"
   ]
  },
  {
   "cell_type": "markdown",
   "metadata": {},
   "source": [
    "### Proportion of Female and Male Survivals"
   ]
  },
  {
   "cell_type": "code",
   "execution_count": 1513,
   "metadata": {
    "collapsed": false
   },
   "outputs": [
    {
     "data": {
      "text/html": [
       "<div>\n",
       "<table border=\"1\" class=\"dataframe\">\n",
       "  <thead>\n",
       "    <tr style=\"text-align: right;\">\n",
       "      <th>Sex</th>\n",
       "      <th>female</th>\n",
       "      <th>male</th>\n",
       "    </tr>\n",
       "    <tr>\n",
       "      <th>Passengers_survival</th>\n",
       "      <th></th>\n",
       "      <th></th>\n",
       "    </tr>\n",
       "  </thead>\n",
       "  <tbody>\n",
       "    <tr>\n",
       "      <th>Not Survived</th>\n",
       "      <td>81</td>\n",
       "      <td>468</td>\n",
       "    </tr>\n",
       "    <tr>\n",
       "      <th>Survived</th>\n",
       "      <td>233</td>\n",
       "      <td>109</td>\n",
       "    </tr>\n",
       "  </tbody>\n",
       "</table>\n",
       "</div>"
      ],
      "text/plain": [
       "Sex                  female  male\n",
       "Passengers_survival              \n",
       "Not Survived             81   468\n",
       "Survived                233   109"
      ]
     },
     "execution_count": 1513,
     "metadata": {},
     "output_type": "execute_result"
    }
   ],
   "source": [
    "survived_by_sex = pd.crosstab(index=titanic_dataframe[\"Passengers_survival\"],\n",
    "                            columns=titanic_dataframe[\"Sex\"])\n",
    "survived_by_sex "
   ]
  },
  {
   "cell_type": "markdown",
   "metadata": {},
   "source": [
    "233 out of 314 women were survived and 109 out of 577 men were survived. "
   ]
  },
  {
   "cell_type": "code",
   "execution_count": 1514,
   "metadata": {
    "collapsed": false
   },
   "outputs": [
    {
     "data": {
      "text/plain": [
       "<matplotlib.axes._subplots.AxesSubplot at 0x265dd860>"
      ]
     },
     "execution_count": 1514,
     "metadata": {},
     "output_type": "execute_result"
    },
    {
     "data": {
      "image/png": "[encoded data removed]",
      "text/plain": [
       "<matplotlib.figure.Figure at 0x261e7748>"
      ]
     },
     "metadata": {},
     "output_type": "display_data"
    }
   ],
   "source": [
    "fig, axs=plt.subplots(1,2)\n",
    "titanic_dataframe[titanic_dataframe.Sex=='female'].Passengers_survival.value_counts().plot(kind='bar',ax=axs[0],title='Female Survival',color = 'Y')\n",
    "titanic_dataframe[titanic_dataframe.Sex=='male'].Passengers_survival.value_counts().plot(kind='bar',stacked=True,ax=axs[1],title='Male Survival')"
   ]
  },
  {
   "cell_type": "code",
   "execution_count": 1515,
   "metadata": {
    "collapsed": false
   },
   "outputs": [
    {
     "data": {
      "text/html": [
       "<div>\n",
       "<table border=\"1\" class=\"dataframe\">\n",
       "  <thead>\n",
       "    <tr style=\"text-align: right;\">\n",
       "      <th>Sex</th>\n",
       "      <th>female</th>\n",
       "      <th>male</th>\n",
       "    </tr>\n",
       "    <tr>\n",
       "      <th>Passengers_survival</th>\n",
       "      <th></th>\n",
       "      <th></th>\n",
       "    </tr>\n",
       "  </thead>\n",
       "  <tbody>\n",
       "    <tr>\n",
       "      <th>Not Survived</th>\n",
       "      <td>25.796178</td>\n",
       "      <td>81.109185</td>\n",
       "    </tr>\n",
       "    <tr>\n",
       "      <th>Survived</th>\n",
       "      <td>74.203822</td>\n",
       "      <td>18.890815</td>\n",
       "    </tr>\n",
       "  </tbody>\n",
       "</table>\n",
       "</div>"
      ],
      "text/plain": [
       "Sex                     female       male\n",
       "Passengers_survival                      \n",
       "Not Survived         25.796178  81.109185\n",
       "Survived             74.203822  18.890815"
      ]
     },
     "execution_count": 1515,
     "metadata": {},
     "output_type": "execute_result"
    }
   ],
   "source": [
    "Survival_by_sex=pd.crosstab(index=titanic_dataframe['Passengers_survival'], columns=titanic_dataframe['Sex'])\n",
    "Survival_by_sex_ratio = Survival_by_sex.div(survived_by_sex.sum())\n",
    "Survival_by_sex_percent = Survival_by_sex_ratio*100\n",
    "Survival_by_sex_percent\n"
   ]
  },
  {
   "cell_type": "markdown",
   "metadata": {},
   "source": [
    "The percentage survival of female is 74.20% while the percentage of survival of male is 18.89%. The results show that the proportion of female survived is greater than the proportion of male survived."
   ]
  },
  {
   "cell_type": "markdown",
   "metadata": {},
   "source": [
    "### Chi-Square Test - Relation Between Survival and Sex"
   ]
  },
  {
   "cell_type": "markdown",
   "metadata": {},
   "source": [
    "The proportion from above result shows significant difference between male and female survivers. Using Chi-Square test, it can be checked if the means population by sex are the same or different."
   ]
  },
  {
   "cell_type": "markdown",
   "metadata": {},
   "source": [
    "H0: The population mean of female survived is the same as the population mean of male survived\n",
    "HA: The population mean of female survived is not the same as the population mean of male survived\n",
    "\n",
    "Let the population mean of female be µsf and the population mean of male be µsm and α be 0.05\n",
    "\n",
    "H0:  µsf = µsm       \n",
    "HA:   µsf ≠ µsm      "
   ]
  },
  {
   "cell_type": "code",
   "execution_count": 1516,
   "metadata": {
    "collapsed": false
   },
   "outputs": [
    {
     "data": {
      "text/plain": [
       "(260.71702016732104,\n",
       " 1.1973570627755645e-58,\n",
       " 1L,\n",
       " array([[ 193.47474747,  355.52525253],\n",
       "        [ 120.52525253,  221.47474747]]))"
      ]
     },
     "execution_count": 1516,
     "metadata": {},
     "output_type": "execute_result"
    }
   ],
   "source": [
    "from scipy.stats import chi2_contingency\n",
    "chi2_contingency(pd.crosstab(titanic_dataframe.Survived, titanic_dataframe.Sex))"
   ]
  },
  {
   "cell_type": "markdown",
   "metadata": {},
   "source": [
    "The p-value calculated is negligible(1.1973570627755645e-58). So with 95% confidence level, the Null hypothesis can be rejected. Hence, it can be concluded that the populatin mean of female and male survived is not the same. Based on the percentges we can say that population mean of female is greater than the population of male."
   ]
  },
  {
   "cell_type": "markdown",
   "metadata": {},
   "source": [
    "## 3.3.2 Age and survival\n",
    "\n",
    "\n",
    "### Grouping Age\n",
    "Gouping age is helpful in analysing the data by age. So I am groupoing the age in eight groups with 10 interval in each group. "
   ]
  },
  {
   "cell_type": "code",
   "execution_count": 1517,
   "metadata": {
    "collapsed": false,
    "scrolled": false
   },
   "outputs": [
    {
     "data": {
      "text/html": [
       "<div>\n",
       "<table border=\"1\" class=\"dataframe\">\n",
       "  <thead>\n",
       "    <tr style=\"text-align: right;\">\n",
       "      <th></th>\n",
       "      <th>PassengerId</th>\n",
       "      <th>Survived</th>\n",
       "      <th>Pclass</th>\n",
       "      <th>Name</th>\n",
       "      <th>Sex</th>\n",
       "      <th>Age</th>\n",
       "      <th>SibSp</th>\n",
       "      <th>Parch</th>\n",
       "      <th>Ticket</th>\n",
       "      <th>Fare</th>\n",
       "      <th>Cabin</th>\n",
       "      <th>Embarked</th>\n",
       "      <th>Passengers_age</th>\n",
       "      <th>Passengers_survival</th>\n",
       "      <th>Age_group</th>\n",
       "    </tr>\n",
       "  </thead>\n",
       "  <tbody>\n",
       "    <tr>\n",
       "      <th>0</th>\n",
       "      <td>1</td>\n",
       "      <td>0</td>\n",
       "      <td>3</td>\n",
       "      <td>Braund, Mr. Owen Harris</td>\n",
       "      <td>male</td>\n",
       "      <td>22.0</td>\n",
       "      <td>1</td>\n",
       "      <td>0</td>\n",
       "      <td>A/5 21171</td>\n",
       "      <td>7.2500</td>\n",
       "      <td>X99</td>\n",
       "      <td>S</td>\n",
       "      <td>22.0</td>\n",
       "      <td>Not Survived</td>\n",
       "      <td>[20-30)</td>\n",
       "    </tr>\n",
       "    <tr>\n",
       "      <th>1</th>\n",
       "      <td>2</td>\n",
       "      <td>1</td>\n",
       "      <td>1</td>\n",
       "      <td>Cumings, Mrs. John Bradley (Florence Briggs Th...</td>\n",
       "      <td>female</td>\n",
       "      <td>38.0</td>\n",
       "      <td>1</td>\n",
       "      <td>0</td>\n",
       "      <td>PC 17599</td>\n",
       "      <td>71.2833</td>\n",
       "      <td>C85</td>\n",
       "      <td>C</td>\n",
       "      <td>38.0</td>\n",
       "      <td>Survived</td>\n",
       "      <td>[30-40)</td>\n",
       "    </tr>\n",
       "    <tr>\n",
       "      <th>2</th>\n",
       "      <td>3</td>\n",
       "      <td>1</td>\n",
       "      <td>3</td>\n",
       "      <td>Heikkinen, Miss. Laina</td>\n",
       "      <td>female</td>\n",
       "      <td>26.0</td>\n",
       "      <td>0</td>\n",
       "      <td>0</td>\n",
       "      <td>STON/O2. 3101282</td>\n",
       "      <td>7.9250</td>\n",
       "      <td>X99</td>\n",
       "      <td>S</td>\n",
       "      <td>26.0</td>\n",
       "      <td>Survived</td>\n",
       "      <td>[20-30)</td>\n",
       "    </tr>\n",
       "    <tr>\n",
       "      <th>3</th>\n",
       "      <td>4</td>\n",
       "      <td>1</td>\n",
       "      <td>1</td>\n",
       "      <td>Futrelle, Mrs. Jacques Heath (Lily May Peel)</td>\n",
       "      <td>female</td>\n",
       "      <td>35.0</td>\n",
       "      <td>1</td>\n",
       "      <td>0</td>\n",
       "      <td>113803</td>\n",
       "      <td>53.1000</td>\n",
       "      <td>C123</td>\n",
       "      <td>S</td>\n",
       "      <td>35.0</td>\n",
       "      <td>Survived</td>\n",
       "      <td>[30-40)</td>\n",
       "    </tr>\n",
       "    <tr>\n",
       "      <th>4</th>\n",
       "      <td>5</td>\n",
       "      <td>0</td>\n",
       "      <td>3</td>\n",
       "      <td>Allen, Mr. William Henry</td>\n",
       "      <td>male</td>\n",
       "      <td>35.0</td>\n",
       "      <td>0</td>\n",
       "      <td>0</td>\n",
       "      <td>373450</td>\n",
       "      <td>8.0500</td>\n",
       "      <td>X99</td>\n",
       "      <td>S</td>\n",
       "      <td>35.0</td>\n",
       "      <td>Not Survived</td>\n",
       "      <td>[30-40)</td>\n",
       "    </tr>\n",
       "  </tbody>\n",
       "</table>\n",
       "</div>"
      ],
      "text/plain": [
       "   PassengerId  Survived  Pclass  \\\n",
       "0            1         0       3   \n",
       "1            2         1       1   \n",
       "2            3         1       3   \n",
       "3            4         1       1   \n",
       "4            5         0       3   \n",
       "\n",
       "                                                Name     Sex   Age  SibSp  \\\n",
       "0                            Braund, Mr. Owen Harris    male  22.0      1   \n",
       "1  Cumings, Mrs. John Bradley (Florence Briggs Th...  female  38.0      1   \n",
       "2                             Heikkinen, Miss. Laina  female  26.0      0   \n",
       "3       Futrelle, Mrs. Jacques Heath (Lily May Peel)  female  35.0      1   \n",
       "4                           Allen, Mr. William Henry    male  35.0      0   \n",
       "\n",
       "   Parch            Ticket     Fare Cabin Embarked  Passengers_age  \\\n",
       "0      0         A/5 21171   7.2500   X99        S            22.0   \n",
       "1      0          PC 17599  71.2833   C85        C            38.0   \n",
       "2      0  STON/O2. 3101282   7.9250   X99        S            26.0   \n",
       "3      0            113803  53.1000  C123        S            35.0   \n",
       "4      0            373450   8.0500   X99        S            35.0   \n",
       "\n",
       "  Passengers_survival Age_group  \n",
       "0        Not Survived   [20-30)  \n",
       "1            Survived   [30-40)  \n",
       "2            Survived   [20-30)  \n",
       "3            Survived   [30-40)  \n",
       "4        Not Survived   [30-40)  "
      ]
     },
     "execution_count": 1517,
     "metadata": {},
     "output_type": "execute_result"
    }
   ],
   "source": [
    "bins=[0,10,20,30,40,50,60,70,80]\n",
    "Age_group_names = ['(0-10)', '[10-20)', '[20-30)', '[30-40)','[40-50)', '[50-60)', '[60-70)', '[70-80)']\n",
    "Age_group = pd.cut(titanic_dataframe['Passengers_age'], bins, labels=Age_group_names)\n",
    "titanic_dataframe['Age_group'] = pd.cut(titanic_dataframe['Age'],bins, labels=Age_group_names)\n",
    "pd.value_counts(titanic_dataframe['Age_group'])\n",
    "titanic_dataframe.head()"
   ]
  },
  {
   "cell_type": "code",
   "execution_count": 1518,
   "metadata": {
    "collapsed": false
   },
   "outputs": [
    {
     "data": {
      "text/plain": [
       "(0-10)      64\n",
       "[10-20)    115\n",
       "[20-30)    230\n",
       "[30-40)    155\n",
       "[40-50)     86\n",
       "[50-60)     42\n",
       "[60-70)     17\n",
       "[70-80)      5\n",
       "dtype: int64"
      ]
     },
     "execution_count": 1518,
     "metadata": {},
     "output_type": "execute_result"
    }
   ],
   "source": [
    "titanic_dataframe.Age_group.value_counts(sort=False)"
   ]
  },
  {
   "cell_type": "markdown",
   "metadata": {},
   "source": [
    "Many of the passengers between 10 and 40 of years age."
   ]
  },
  {
   "cell_type": "markdown",
   "metadata": {},
   "source": [
    "###  Proportion of survival by age"
   ]
  },
  {
   "cell_type": "code",
   "execution_count": 1519,
   "metadata": {
    "collapsed": false,
    "scrolled": true
   },
   "outputs": [
    {
     "data": {
      "image/png": "[encoded data removed]",
      "text/plain": [
       "<matplotlib.figure.Figure at 0x23da6128>"
      ]
     },
     "metadata": {},
     "output_type": "display_data"
    }
   ],
   "source": [
    "ax=sns.barplot(x=\"Age_group\", y=\"Survived\",data=titanic_dataframe)\n",
    "ax.set(xlabel='Age Group', ylabel='Survived Proportion')\n",
    "plt.show()"
   ]
  },
  {
   "cell_type": "code",
   "execution_count": 1520,
   "metadata": {
    "collapsed": false
   },
   "outputs": [
    {
     "data": {
      "text/html": [
       "<div>\n",
       "<table border=\"1\" class=\"dataframe\">\n",
       "  <thead>\n",
       "    <tr style=\"text-align: right;\">\n",
       "      <th>Age_group</th>\n",
       "      <th>(0-10)</th>\n",
       "      <th>[10-20)</th>\n",
       "      <th>[20-30)</th>\n",
       "      <th>[30-40)</th>\n",
       "      <th>[40-50)</th>\n",
       "      <th>[50-60)</th>\n",
       "      <th>[60-70)</th>\n",
       "      <th>[70-80)</th>\n",
       "    </tr>\n",
       "    <tr>\n",
       "      <th>Passengers_survival</th>\n",
       "      <th></th>\n",
       "      <th></th>\n",
       "      <th></th>\n",
       "      <th></th>\n",
       "      <th></th>\n",
       "      <th></th>\n",
       "      <th></th>\n",
       "      <th></th>\n",
       "    </tr>\n",
       "  </thead>\n",
       "  <tbody>\n",
       "    <tr>\n",
       "      <th>Not Survived</th>\n",
       "      <td>40.625</td>\n",
       "      <td>61.73913</td>\n",
       "      <td>63.478261</td>\n",
       "      <td>55.483871</td>\n",
       "      <td>61.627907</td>\n",
       "      <td>59.52381</td>\n",
       "      <td>76.470588</td>\n",
       "      <td>80.0</td>\n",
       "    </tr>\n",
       "    <tr>\n",
       "      <th>Survived</th>\n",
       "      <td>59.375</td>\n",
       "      <td>38.26087</td>\n",
       "      <td>36.521739</td>\n",
       "      <td>44.516129</td>\n",
       "      <td>38.372093</td>\n",
       "      <td>40.47619</td>\n",
       "      <td>23.529412</td>\n",
       "      <td>20.0</td>\n",
       "    </tr>\n",
       "  </tbody>\n",
       "</table>\n",
       "</div>"
      ],
      "text/plain": [
       "Age_group            (0-10)   [10-20)    [20-30)    [30-40)    [40-50)  \\\n",
       "Passengers_survival                                                      \n",
       "Not Survived         40.625  61.73913  63.478261  55.483871  61.627907   \n",
       "Survived             59.375  38.26087  36.521739  44.516129  38.372093   \n",
       "\n",
       "Age_group             [50-60)    [60-70)  [70-80)  \n",
       "Passengers_survival                                \n",
       "Not Survived         59.52381  76.470588     80.0  \n",
       "Survived             40.47619  23.529412     20.0  "
      ]
     },
     "execution_count": 1520,
     "metadata": {},
     "output_type": "execute_result"
    }
   ],
   "source": [
    "Survival_by_age=pd.crosstab(index=titanic_dataframe['Passengers_survival'], columns=titanic_dataframe['Age_group'])\n",
    "Survival_by_age_ratio = Survival_by_age.div(Survival_by_age.sum())\n",
    "Survival_by_age_percent = Survival_by_age_ratio*100\n",
    "Survival_by_age_percent.round(2)"
   ]
  },
  {
   "cell_type": "markdown",
   "metadata": {},
   "source": [
    "The graph and the table show that the proportion of survival is great among children less or equal to 10 years old. In order to see the difference clearly, it is good to see the proportion of survival for children(less than 10years) and for youngesters and adults(age greater than 10 years)\n"
   ]
  },
  {
   "cell_type": "code",
   "execution_count": 1521,
   "metadata": {
    "collapsed": false,
    "scrolled": true
   },
   "outputs": [
    {
     "name": "stdout",
     "output_type": "stream",
     "text": [
      "Children_survived = 59.375\n",
      "Adults_survived = 36.7593712213\n",
      "Populating the interactive namespace from numpy and matplotlib\n"
     ]
    },
    {
     "data": {
      "image/png": "[encoded data removed]",
      "text/plain": [
       "<matplotlib.figure.Figure at 0x2601dc18>"
      ]
     },
     "metadata": {},
     "output_type": "display_data"
    }
   ],
   "source": [
    "Number_of_children_survived= len(titanic_dataframe[(titanic_dataframe['Passengers_age']<= 10.00)&(titanic_dataframe['Survived'] == 1)])\n",
    "Number_of_children= len(titanic_dataframe[(titanic_dataframe['Passengers_age']<= 10.00)])\n",
    "Number_of_youngesters_adults_survived= len(titanic_dataframe[(titanic_dataframe['Passengers_age']> 10.00)&(titanic_dataframe['Survived'] == 1)])\n",
    "Number_of_youngesters_adults= len(titanic_dataframe[(titanic_dataframe['Passengers_age']>10.00)])\n",
    "Children_survived = Number_of_children_survived*1.0/Number_of_children*100\n",
    "Adults_survived = Number_of_youngesters_adults_survived*1.0/Number_of_youngesters_adults*100\n",
    "print '{} = {}'.format('Children_survived',Percentage_of_children_survived)\n",
    "print '{} = {}'.format('Adults_survived',Percentage_of_youngesters_adults_survived)\n",
    "import seaborn as sns\n",
    "import numpy as np\n",
    "import matplotlib.pyplot as plt\n",
    "%pylab inline\n",
    "\n",
    "def plotbar(data1, data2, title, c1, c2, n, l1,l2): \n",
    "    n_groups = 1\n",
    "    Percentage_of_children_survived= (data1)\n",
    "    Percentage_of_youngesters_adults_survived = (data2)\n",
    "\n",
    "    fig, ax = plt.subplots()\n",
    "\n",
    "    index = np.arange(n_groups)\n",
    "    bar_width = 0.3\n",
    "\n",
    "    opacity = 0.7\n",
    "    error_config = {'ecolor': '0.3'}\n",
    "\n",
    "    rects1 = plt.bar(index, Percentage_of_children_survived, bar_width,\n",
    "                     alpha=opacity,\n",
    "                     color=c1,\n",
    "                     yerr=0,\n",
    "                     error_kw=error_config,\n",
    "                     label=l1)\n",
    "\n",
    "    rects2 = plt.bar(index +0.5 + bar_width, Percentage_of_youngesters_adults_survived, bar_width,\n",
    "                     alpha=opacity,\n",
    "                     color=c2,\n",
    "                     yerr=0,\n",
    "                     error_kw=error_config,\n",
    "                     label=l2)\n",
    "\n",
    "    plt.xlabel('')\n",
    "    plt.ylabel('Percentages')\n",
    "    plt.title(title)\n",
    "    plt.xticks(index + bar_width, (''))\n",
    "    plt.legend()\n",
    "    plt.yticks(n)\n",
    "\n",
    "    plt.tight_layout()\n",
    "    plt.show()\n",
    "   \n",
    "plotbar(Children_survived, Adults_survived,'Percentage Survived passengers','b','y',np.arange(0, 100, 10),'Childen','Adults')"
   ]
  },
  {
   "cell_type": "markdown",
   "metadata": {},
   "source": [
    "The percentage of children(10years old and below)survived is almost twice the percentage of youngesters and adults survived. "
   ]
  },
  {
   "cell_type": "markdown",
   "metadata": {},
   "source": [
    "### Chi-Square test- Children and Adult Survival"
   ]
  },
  {
   "cell_type": "markdown",
   "metadata": {},
   "source": [
    "As the graph shows and the percentage shows that the proportion of survial among childre aged 10years and below is higher than the other age groups.\n",
    "\n",
    "Does this result shows that survival was related to age?\n",
    "\n",
    "Children = 10 years old and below\n",
    "Adults = greater than 10years\n",
    "\n",
    "H0: The population mean of children survived is the same as the population mean of adults survived\n",
    "HA: The population mean of children survived is not the same as the population mean of adults survived\n",
    "\n",
    "Let the population mean of children be µsc and the population mean of adults be µsa and α be 0.05\n",
    "\n",
    "H0:  µsc = µsa       \n",
    "HA:   µsc ≠ µsa"
   ]
  },
  {
   "cell_type": "code",
   "execution_count": 1522,
   "metadata": {
    "collapsed": false
   },
   "outputs": [
    {
     "data": {
      "text/plain": [
       "1     64\n",
       "2    827\n",
       "Name: Age_below_and_above_10, dtype: int64"
      ]
     },
     "execution_count": 1522,
     "metadata": {},
     "output_type": "execute_result"
    }
   ],
   "source": [
    "def Age_below_and_above_10(row):   # catogorizing age below and above 10years\n",
    "    if row['Age_group'] == '(0-10)':\n",
    "        return 1\n",
    "    else:\n",
    "        return 2\n",
    "titanic_dataframe['Age_below_and_above_10']= titanic_dataframe.apply(lambda row:Age_below_and_above_10(row), axis=1)\n",
    "Fare_freq= titanic_dataframe['Age_below_and_above_10'].value_counts(sort=False,dropna=False)\n",
    "Fare_freq"
   ]
  },
  {
   "cell_type": "code",
   "execution_count": 1523,
   "metadata": {
    "collapsed": false
   },
   "outputs": [
    {
     "data": {
      "text/html": [
       "<div>\n",
       "<table border=\"1\" class=\"dataframe\">\n",
       "  <thead>\n",
       "    <tr style=\"text-align: right;\">\n",
       "      <th></th>\n",
       "      <th>PassengerId</th>\n",
       "      <th>Survived</th>\n",
       "      <th>Pclass</th>\n",
       "      <th>Name</th>\n",
       "      <th>Sex</th>\n",
       "      <th>Age</th>\n",
       "      <th>SibSp</th>\n",
       "      <th>Parch</th>\n",
       "      <th>Ticket</th>\n",
       "      <th>Fare</th>\n",
       "      <th>Cabin</th>\n",
       "      <th>Embarked</th>\n",
       "      <th>Passengers_age</th>\n",
       "      <th>Passengers_survival</th>\n",
       "      <th>Age_group</th>\n",
       "      <th>Age_below_and_above_10</th>\n",
       "      <th>Age_group_Children_Adult</th>\n",
       "    </tr>\n",
       "  </thead>\n",
       "  <tbody>\n",
       "    <tr>\n",
       "      <th>0</th>\n",
       "      <td>1</td>\n",
       "      <td>0</td>\n",
       "      <td>3</td>\n",
       "      <td>Braund, Mr. Owen Harris</td>\n",
       "      <td>male</td>\n",
       "      <td>22.0</td>\n",
       "      <td>1</td>\n",
       "      <td>0</td>\n",
       "      <td>A/5 21171</td>\n",
       "      <td>7.2500</td>\n",
       "      <td>X99</td>\n",
       "      <td>S</td>\n",
       "      <td>22.000000</td>\n",
       "      <td>Not Survived</td>\n",
       "      <td>[20-30)</td>\n",
       "      <td>2</td>\n",
       "      <td>&lt;=10yrs</td>\n",
       "    </tr>\n",
       "    <tr>\n",
       "      <th>1</th>\n",
       "      <td>2</td>\n",
       "      <td>1</td>\n",
       "      <td>1</td>\n",
       "      <td>Cumings, Mrs. John Bradley (Florence Briggs Th...</td>\n",
       "      <td>female</td>\n",
       "      <td>38.0</td>\n",
       "      <td>1</td>\n",
       "      <td>0</td>\n",
       "      <td>PC 17599</td>\n",
       "      <td>71.2833</td>\n",
       "      <td>C85</td>\n",
       "      <td>C</td>\n",
       "      <td>38.000000</td>\n",
       "      <td>Survived</td>\n",
       "      <td>[30-40)</td>\n",
       "      <td>2</td>\n",
       "      <td>&lt;=10yrs</td>\n",
       "    </tr>\n",
       "    <tr>\n",
       "      <th>2</th>\n",
       "      <td>3</td>\n",
       "      <td>1</td>\n",
       "      <td>3</td>\n",
       "      <td>Heikkinen, Miss. Laina</td>\n",
       "      <td>female</td>\n",
       "      <td>26.0</td>\n",
       "      <td>0</td>\n",
       "      <td>0</td>\n",
       "      <td>STON/O2. 3101282</td>\n",
       "      <td>7.9250</td>\n",
       "      <td>X99</td>\n",
       "      <td>S</td>\n",
       "      <td>26.000000</td>\n",
       "      <td>Survived</td>\n",
       "      <td>[20-30)</td>\n",
       "      <td>2</td>\n",
       "      <td>&lt;=10yrs</td>\n",
       "    </tr>\n",
       "    <tr>\n",
       "      <th>3</th>\n",
       "      <td>4</td>\n",
       "      <td>1</td>\n",
       "      <td>1</td>\n",
       "      <td>Futrelle, Mrs. Jacques Heath (Lily May Peel)</td>\n",
       "      <td>female</td>\n",
       "      <td>35.0</td>\n",
       "      <td>1</td>\n",
       "      <td>0</td>\n",
       "      <td>113803</td>\n",
       "      <td>53.1000</td>\n",
       "      <td>C123</td>\n",
       "      <td>S</td>\n",
       "      <td>35.000000</td>\n",
       "      <td>Survived</td>\n",
       "      <td>[30-40)</td>\n",
       "      <td>2</td>\n",
       "      <td>&lt;=10yrs</td>\n",
       "    </tr>\n",
       "    <tr>\n",
       "      <th>4</th>\n",
       "      <td>5</td>\n",
       "      <td>0</td>\n",
       "      <td>3</td>\n",
       "      <td>Allen, Mr. William Henry</td>\n",
       "      <td>male</td>\n",
       "      <td>35.0</td>\n",
       "      <td>0</td>\n",
       "      <td>0</td>\n",
       "      <td>373450</td>\n",
       "      <td>8.0500</td>\n",
       "      <td>X99</td>\n",
       "      <td>S</td>\n",
       "      <td>35.000000</td>\n",
       "      <td>Not Survived</td>\n",
       "      <td>[30-40)</td>\n",
       "      <td>2</td>\n",
       "      <td>&lt;=10yrs</td>\n",
       "    </tr>\n",
       "    <tr>\n",
       "      <th>5</th>\n",
       "      <td>6</td>\n",
       "      <td>0</td>\n",
       "      <td>3</td>\n",
       "      <td>Moran, Mr. James</td>\n",
       "      <td>male</td>\n",
       "      <td>NaN</td>\n",
       "      <td>0</td>\n",
       "      <td>0</td>\n",
       "      <td>330877</td>\n",
       "      <td>8.4583</td>\n",
       "      <td>X99</td>\n",
       "      <td>Q</td>\n",
       "      <td>29.699118</td>\n",
       "      <td>Not Survived</td>\n",
       "      <td>NaN</td>\n",
       "      <td>2</td>\n",
       "      <td>&lt;=10yrs</td>\n",
       "    </tr>\n",
       "    <tr>\n",
       "      <th>6</th>\n",
       "      <td>7</td>\n",
       "      <td>0</td>\n",
       "      <td>1</td>\n",
       "      <td>McCarthy, Mr. Timothy J</td>\n",
       "      <td>male</td>\n",
       "      <td>54.0</td>\n",
       "      <td>0</td>\n",
       "      <td>0</td>\n",
       "      <td>17463</td>\n",
       "      <td>51.8625</td>\n",
       "      <td>E46</td>\n",
       "      <td>S</td>\n",
       "      <td>54.000000</td>\n",
       "      <td>Not Survived</td>\n",
       "      <td>[50-60)</td>\n",
       "      <td>2</td>\n",
       "      <td>&lt;=10yrs</td>\n",
       "    </tr>\n",
       "    <tr>\n",
       "      <th>7</th>\n",
       "      <td>8</td>\n",
       "      <td>0</td>\n",
       "      <td>3</td>\n",
       "      <td>Palsson, Master. Gosta Leonard</td>\n",
       "      <td>male</td>\n",
       "      <td>2.0</td>\n",
       "      <td>3</td>\n",
       "      <td>1</td>\n",
       "      <td>349909</td>\n",
       "      <td>21.0750</td>\n",
       "      <td>X99</td>\n",
       "      <td>S</td>\n",
       "      <td>2.000000</td>\n",
       "      <td>Not Survived</td>\n",
       "      <td>(0-10)</td>\n",
       "      <td>1</td>\n",
       "      <td>&gt;10yrs</td>\n",
       "    </tr>\n",
       "    <tr>\n",
       "      <th>8</th>\n",
       "      <td>9</td>\n",
       "      <td>1</td>\n",
       "      <td>3</td>\n",
       "      <td>Johnson, Mrs. Oscar W (Elisabeth Vilhelmina Berg)</td>\n",
       "      <td>female</td>\n",
       "      <td>27.0</td>\n",
       "      <td>0</td>\n",
       "      <td>2</td>\n",
       "      <td>347742</td>\n",
       "      <td>11.1333</td>\n",
       "      <td>X99</td>\n",
       "      <td>S</td>\n",
       "      <td>27.000000</td>\n",
       "      <td>Survived</td>\n",
       "      <td>[20-30)</td>\n",
       "      <td>2</td>\n",
       "      <td>&lt;=10yrs</td>\n",
       "    </tr>\n",
       "    <tr>\n",
       "      <th>9</th>\n",
       "      <td>10</td>\n",
       "      <td>1</td>\n",
       "      <td>2</td>\n",
       "      <td>Nasser, Mrs. Nicholas (Adele Achem)</td>\n",
       "      <td>female</td>\n",
       "      <td>14.0</td>\n",
       "      <td>1</td>\n",
       "      <td>0</td>\n",
       "      <td>237736</td>\n",
       "      <td>30.0708</td>\n",
       "      <td>X99</td>\n",
       "      <td>C</td>\n",
       "      <td>14.000000</td>\n",
       "      <td>Survived</td>\n",
       "      <td>[10-20)</td>\n",
       "      <td>2</td>\n",
       "      <td>&lt;=10yrs</td>\n",
       "    </tr>\n",
       "    <tr>\n",
       "      <th>10</th>\n",
       "      <td>11</td>\n",
       "      <td>1</td>\n",
       "      <td>3</td>\n",
       "      <td>Sandstrom, Miss. Marguerite Rut</td>\n",
       "      <td>female</td>\n",
       "      <td>4.0</td>\n",
       "      <td>1</td>\n",
       "      <td>1</td>\n",
       "      <td>PP 9549</td>\n",
       "      <td>16.7000</td>\n",
       "      <td>G6</td>\n",
       "      <td>S</td>\n",
       "      <td>4.000000</td>\n",
       "      <td>Survived</td>\n",
       "      <td>(0-10)</td>\n",
       "      <td>1</td>\n",
       "      <td>&gt;10yrs</td>\n",
       "    </tr>\n",
       "    <tr>\n",
       "      <th>11</th>\n",
       "      <td>12</td>\n",
       "      <td>1</td>\n",
       "      <td>1</td>\n",
       "      <td>Bonnell, Miss. Elizabeth</td>\n",
       "      <td>female</td>\n",
       "      <td>58.0</td>\n",
       "      <td>0</td>\n",
       "      <td>0</td>\n",
       "      <td>113783</td>\n",
       "      <td>26.5500</td>\n",
       "      <td>C103</td>\n",
       "      <td>S</td>\n",
       "      <td>58.000000</td>\n",
       "      <td>Survived</td>\n",
       "      <td>[50-60)</td>\n",
       "      <td>2</td>\n",
       "      <td>&lt;=10yrs</td>\n",
       "    </tr>\n",
       "    <tr>\n",
       "      <th>12</th>\n",
       "      <td>13</td>\n",
       "      <td>0</td>\n",
       "      <td>3</td>\n",
       "      <td>Saundercock, Mr. William Henry</td>\n",
       "      <td>male</td>\n",
       "      <td>20.0</td>\n",
       "      <td>0</td>\n",
       "      <td>0</td>\n",
       "      <td>A/5. 2151</td>\n",
       "      <td>8.0500</td>\n",
       "      <td>X99</td>\n",
       "      <td>S</td>\n",
       "      <td>20.000000</td>\n",
       "      <td>Not Survived</td>\n",
       "      <td>[10-20)</td>\n",
       "      <td>2</td>\n",
       "      <td>&lt;=10yrs</td>\n",
       "    </tr>\n",
       "    <tr>\n",
       "      <th>13</th>\n",
       "      <td>14</td>\n",
       "      <td>0</td>\n",
       "      <td>3</td>\n",
       "      <td>Andersson, Mr. Anders Johan</td>\n",
       "      <td>male</td>\n",
       "      <td>39.0</td>\n",
       "      <td>1</td>\n",
       "      <td>5</td>\n",
       "      <td>347082</td>\n",
       "      <td>31.2750</td>\n",
       "      <td>X99</td>\n",
       "      <td>S</td>\n",
       "      <td>39.000000</td>\n",
       "      <td>Not Survived</td>\n",
       "      <td>[30-40)</td>\n",
       "      <td>2</td>\n",
       "      <td>&lt;=10yrs</td>\n",
       "    </tr>\n",
       "    <tr>\n",
       "      <th>14</th>\n",
       "      <td>15</td>\n",
       "      <td>0</td>\n",
       "      <td>3</td>\n",
       "      <td>Vestrom, Miss. Hulda Amanda Adolfina</td>\n",
       "      <td>female</td>\n",
       "      <td>14.0</td>\n",
       "      <td>0</td>\n",
       "      <td>0</td>\n",
       "      <td>350406</td>\n",
       "      <td>7.8542</td>\n",
       "      <td>X99</td>\n",
       "      <td>S</td>\n",
       "      <td>14.000000</td>\n",
       "      <td>Not Survived</td>\n",
       "      <td>[10-20)</td>\n",
       "      <td>2</td>\n",
       "      <td>&lt;=10yrs</td>\n",
       "    </tr>\n",
       "    <tr>\n",
       "      <th>15</th>\n",
       "      <td>16</td>\n",
       "      <td>1</td>\n",
       "      <td>2</td>\n",
       "      <td>Hewlett, Mrs. (Mary D Kingcome)</td>\n",
       "      <td>female</td>\n",
       "      <td>55.0</td>\n",
       "      <td>0</td>\n",
       "      <td>0</td>\n",
       "      <td>248706</td>\n",
       "      <td>16.0000</td>\n",
       "      <td>X99</td>\n",
       "      <td>S</td>\n",
       "      <td>55.000000</td>\n",
       "      <td>Survived</td>\n",
       "      <td>[50-60)</td>\n",
       "      <td>2</td>\n",
       "      <td>&lt;=10yrs</td>\n",
       "    </tr>\n",
       "    <tr>\n",
       "      <th>16</th>\n",
       "      <td>17</td>\n",
       "      <td>0</td>\n",
       "      <td>3</td>\n",
       "      <td>Rice, Master. Eugene</td>\n",
       "      <td>male</td>\n",
       "      <td>2.0</td>\n",
       "      <td>4</td>\n",
       "      <td>1</td>\n",
       "      <td>382652</td>\n",
       "      <td>29.1250</td>\n",
       "      <td>X99</td>\n",
       "      <td>Q</td>\n",
       "      <td>2.000000</td>\n",
       "      <td>Not Survived</td>\n",
       "      <td>(0-10)</td>\n",
       "      <td>1</td>\n",
       "      <td>&gt;10yrs</td>\n",
       "    </tr>\n",
       "    <tr>\n",
       "      <th>17</th>\n",
       "      <td>18</td>\n",
       "      <td>1</td>\n",
       "      <td>2</td>\n",
       "      <td>Williams, Mr. Charles Eugene</td>\n",
       "      <td>male</td>\n",
       "      <td>NaN</td>\n",
       "      <td>0</td>\n",
       "      <td>0</td>\n",
       "      <td>244373</td>\n",
       "      <td>13.0000</td>\n",
       "      <td>X99</td>\n",
       "      <td>S</td>\n",
       "      <td>29.699118</td>\n",
       "      <td>Survived</td>\n",
       "      <td>NaN</td>\n",
       "      <td>2</td>\n",
       "      <td>&lt;=10yrs</td>\n",
       "    </tr>\n",
       "    <tr>\n",
       "      <th>18</th>\n",
       "      <td>19</td>\n",
       "      <td>0</td>\n",
       "      <td>3</td>\n",
       "      <td>Vander Planke, Mrs. Julius (Emelia Maria Vande...</td>\n",
       "      <td>female</td>\n",
       "      <td>31.0</td>\n",
       "      <td>1</td>\n",
       "      <td>0</td>\n",
       "      <td>345763</td>\n",
       "      <td>18.0000</td>\n",
       "      <td>X99</td>\n",
       "      <td>S</td>\n",
       "      <td>31.000000</td>\n",
       "      <td>Not Survived</td>\n",
       "      <td>[30-40)</td>\n",
       "      <td>2</td>\n",
       "      <td>&lt;=10yrs</td>\n",
       "    </tr>\n",
       "    <tr>\n",
       "      <th>19</th>\n",
       "      <td>20</td>\n",
       "      <td>1</td>\n",
       "      <td>3</td>\n",
       "      <td>Masselmani, Mrs. Fatima</td>\n",
       "      <td>female</td>\n",
       "      <td>NaN</td>\n",
       "      <td>0</td>\n",
       "      <td>0</td>\n",
       "      <td>2649</td>\n",
       "      <td>7.2250</td>\n",
       "      <td>X99</td>\n",
       "      <td>C</td>\n",
       "      <td>29.699118</td>\n",
       "      <td>Survived</td>\n",
       "      <td>NaN</td>\n",
       "      <td>2</td>\n",
       "      <td>&lt;=10yrs</td>\n",
       "    </tr>\n",
       "    <tr>\n",
       "      <th>20</th>\n",
       "      <td>21</td>\n",
       "      <td>0</td>\n",
       "      <td>2</td>\n",
       "      <td>Fynney, Mr. Joseph J</td>\n",
       "      <td>male</td>\n",
       "      <td>35.0</td>\n",
       "      <td>0</td>\n",
       "      <td>0</td>\n",
       "      <td>239865</td>\n",
       "      <td>26.0000</td>\n",
       "      <td>X99</td>\n",
       "      <td>S</td>\n",
       "      <td>35.000000</td>\n",
       "      <td>Not Survived</td>\n",
       "      <td>[30-40)</td>\n",
       "      <td>2</td>\n",
       "      <td>&lt;=10yrs</td>\n",
       "    </tr>\n",
       "    <tr>\n",
       "      <th>21</th>\n",
       "      <td>22</td>\n",
       "      <td>1</td>\n",
       "      <td>2</td>\n",
       "      <td>Beesley, Mr. Lawrence</td>\n",
       "      <td>male</td>\n",
       "      <td>34.0</td>\n",
       "      <td>0</td>\n",
       "      <td>0</td>\n",
       "      <td>248698</td>\n",
       "      <td>13.0000</td>\n",
       "      <td>D56</td>\n",
       "      <td>S</td>\n",
       "      <td>34.000000</td>\n",
       "      <td>Survived</td>\n",
       "      <td>[30-40)</td>\n",
       "      <td>2</td>\n",
       "      <td>&lt;=10yrs</td>\n",
       "    </tr>\n",
       "    <tr>\n",
       "      <th>22</th>\n",
       "      <td>23</td>\n",
       "      <td>1</td>\n",
       "      <td>3</td>\n",
       "      <td>McGowan, Miss. Anna \"Annie\"</td>\n",
       "      <td>female</td>\n",
       "      <td>15.0</td>\n",
       "      <td>0</td>\n",
       "      <td>0</td>\n",
       "      <td>330923</td>\n",
       "      <td>8.0292</td>\n",
       "      <td>X99</td>\n",
       "      <td>Q</td>\n",
       "      <td>15.000000</td>\n",
       "      <td>Survived</td>\n",
       "      <td>[10-20)</td>\n",
       "      <td>2</td>\n",
       "      <td>&lt;=10yrs</td>\n",
       "    </tr>\n",
       "    <tr>\n",
       "      <th>23</th>\n",
       "      <td>24</td>\n",
       "      <td>1</td>\n",
       "      <td>1</td>\n",
       "      <td>Sloper, Mr. William Thompson</td>\n",
       "      <td>male</td>\n",
       "      <td>28.0</td>\n",
       "      <td>0</td>\n",
       "      <td>0</td>\n",
       "      <td>113788</td>\n",
       "      <td>35.5000</td>\n",
       "      <td>A6</td>\n",
       "      <td>S</td>\n",
       "      <td>28.000000</td>\n",
       "      <td>Survived</td>\n",
       "      <td>[20-30)</td>\n",
       "      <td>2</td>\n",
       "      <td>&lt;=10yrs</td>\n",
       "    </tr>\n",
       "    <tr>\n",
       "      <th>24</th>\n",
       "      <td>25</td>\n",
       "      <td>0</td>\n",
       "      <td>3</td>\n",
       "      <td>Palsson, Miss. Torborg Danira</td>\n",
       "      <td>female</td>\n",
       "      <td>8.0</td>\n",
       "      <td>3</td>\n",
       "      <td>1</td>\n",
       "      <td>349909</td>\n",
       "      <td>21.0750</td>\n",
       "      <td>X99</td>\n",
       "      <td>S</td>\n",
       "      <td>8.000000</td>\n",
       "      <td>Not Survived</td>\n",
       "      <td>(0-10)</td>\n",
       "      <td>1</td>\n",
       "      <td>&gt;10yrs</td>\n",
       "    </tr>\n",
       "    <tr>\n",
       "      <th>25</th>\n",
       "      <td>26</td>\n",
       "      <td>1</td>\n",
       "      <td>3</td>\n",
       "      <td>Asplund, Mrs. Carl Oscar (Selma Augusta Emilia...</td>\n",
       "      <td>female</td>\n",
       "      <td>38.0</td>\n",
       "      <td>1</td>\n",
       "      <td>5</td>\n",
       "      <td>347077</td>\n",
       "      <td>31.3875</td>\n",
       "      <td>X99</td>\n",
       "      <td>S</td>\n",
       "      <td>38.000000</td>\n",
       "      <td>Survived</td>\n",
       "      <td>[30-40)</td>\n",
       "      <td>2</td>\n",
       "      <td>&lt;=10yrs</td>\n",
       "    </tr>\n",
       "    <tr>\n",
       "      <th>26</th>\n",
       "      <td>27</td>\n",
       "      <td>0</td>\n",
       "      <td>3</td>\n",
       "      <td>Emir, Mr. Farred Chehab</td>\n",
       "      <td>male</td>\n",
       "      <td>NaN</td>\n",
       "      <td>0</td>\n",
       "      <td>0</td>\n",
       "      <td>2631</td>\n",
       "      <td>7.2250</td>\n",
       "      <td>X99</td>\n",
       "      <td>C</td>\n",
       "      <td>29.699118</td>\n",
       "      <td>Not Survived</td>\n",
       "      <td>NaN</td>\n",
       "      <td>2</td>\n",
       "      <td>&lt;=10yrs</td>\n",
       "    </tr>\n",
       "    <tr>\n",
       "      <th>27</th>\n",
       "      <td>28</td>\n",
       "      <td>0</td>\n",
       "      <td>1</td>\n",
       "      <td>Fortune, Mr. Charles Alexander</td>\n",
       "      <td>male</td>\n",
       "      <td>19.0</td>\n",
       "      <td>3</td>\n",
       "      <td>2</td>\n",
       "      <td>19950</td>\n",
       "      <td>263.0000</td>\n",
       "      <td>C23 C25 C27</td>\n",
       "      <td>S</td>\n",
       "      <td>19.000000</td>\n",
       "      <td>Not Survived</td>\n",
       "      <td>[10-20)</td>\n",
       "      <td>2</td>\n",
       "      <td>&lt;=10yrs</td>\n",
       "    </tr>\n",
       "    <tr>\n",
       "      <th>28</th>\n",
       "      <td>29</td>\n",
       "      <td>1</td>\n",
       "      <td>3</td>\n",
       "      <td>O'Dwyer, Miss. Ellen \"Nellie\"</td>\n",
       "      <td>female</td>\n",
       "      <td>NaN</td>\n",
       "      <td>0</td>\n",
       "      <td>0</td>\n",
       "      <td>330959</td>\n",
       "      <td>7.8792</td>\n",
       "      <td>X99</td>\n",
       "      <td>Q</td>\n",
       "      <td>29.699118</td>\n",
       "      <td>Survived</td>\n",
       "      <td>NaN</td>\n",
       "      <td>2</td>\n",
       "      <td>&lt;=10yrs</td>\n",
       "    </tr>\n",
       "    <tr>\n",
       "      <th>29</th>\n",
       "      <td>30</td>\n",
       "      <td>0</td>\n",
       "      <td>3</td>\n",
       "      <td>Todoroff, Mr. Lalio</td>\n",
       "      <td>male</td>\n",
       "      <td>NaN</td>\n",
       "      <td>0</td>\n",
       "      <td>0</td>\n",
       "      <td>349216</td>\n",
       "      <td>7.8958</td>\n",
       "      <td>X99</td>\n",
       "      <td>S</td>\n",
       "      <td>29.699118</td>\n",
       "      <td>Not Survived</td>\n",
       "      <td>NaN</td>\n",
       "      <td>2</td>\n",
       "      <td>&lt;=10yrs</td>\n",
       "    </tr>\n",
       "    <tr>\n",
       "      <th>...</th>\n",
       "      <td>...</td>\n",
       "      <td>...</td>\n",
       "      <td>...</td>\n",
       "      <td>...</td>\n",
       "      <td>...</td>\n",
       "      <td>...</td>\n",
       "      <td>...</td>\n",
       "      <td>...</td>\n",
       "      <td>...</td>\n",
       "      <td>...</td>\n",
       "      <td>...</td>\n",
       "      <td>...</td>\n",
       "      <td>...</td>\n",
       "      <td>...</td>\n",
       "      <td>...</td>\n",
       "      <td>...</td>\n",
       "      <td>...</td>\n",
       "    </tr>\n",
       "    <tr>\n",
       "      <th>861</th>\n",
       "      <td>862</td>\n",
       "      <td>0</td>\n",
       "      <td>2</td>\n",
       "      <td>Giles, Mr. Frederick Edward</td>\n",
       "      <td>male</td>\n",
       "      <td>21.0</td>\n",
       "      <td>1</td>\n",
       "      <td>0</td>\n",
       "      <td>28134</td>\n",
       "      <td>11.5000</td>\n",
       "      <td>X99</td>\n",
       "      <td>S</td>\n",
       "      <td>21.000000</td>\n",
       "      <td>Not Survived</td>\n",
       "      <td>[20-30)</td>\n",
       "      <td>2</td>\n",
       "      <td>&lt;=10yrs</td>\n",
       "    </tr>\n",
       "    <tr>\n",
       "      <th>862</th>\n",
       "      <td>863</td>\n",
       "      <td>1</td>\n",
       "      <td>1</td>\n",
       "      <td>Swift, Mrs. Frederick Joel (Margaret Welles Ba...</td>\n",
       "      <td>female</td>\n",
       "      <td>48.0</td>\n",
       "      <td>0</td>\n",
       "      <td>0</td>\n",
       "      <td>17466</td>\n",
       "      <td>25.9292</td>\n",
       "      <td>D17</td>\n",
       "      <td>S</td>\n",
       "      <td>48.000000</td>\n",
       "      <td>Survived</td>\n",
       "      <td>[40-50)</td>\n",
       "      <td>2</td>\n",
       "      <td>&lt;=10yrs</td>\n",
       "    </tr>\n",
       "    <tr>\n",
       "      <th>863</th>\n",
       "      <td>864</td>\n",
       "      <td>0</td>\n",
       "      <td>3</td>\n",
       "      <td>Sage, Miss. Dorothy Edith \"Dolly\"</td>\n",
       "      <td>female</td>\n",
       "      <td>NaN</td>\n",
       "      <td>8</td>\n",
       "      <td>2</td>\n",
       "      <td>CA. 2343</td>\n",
       "      <td>69.5500</td>\n",
       "      <td>X99</td>\n",
       "      <td>S</td>\n",
       "      <td>29.699118</td>\n",
       "      <td>Not Survived</td>\n",
       "      <td>NaN</td>\n",
       "      <td>2</td>\n",
       "      <td>&lt;=10yrs</td>\n",
       "    </tr>\n",
       "    <tr>\n",
       "      <th>864</th>\n",
       "      <td>865</td>\n",
       "      <td>0</td>\n",
       "      <td>2</td>\n",
       "      <td>Gill, Mr. John William</td>\n",
       "      <td>male</td>\n",
       "      <td>24.0</td>\n",
       "      <td>0</td>\n",
       "      <td>0</td>\n",
       "      <td>233866</td>\n",
       "      <td>13.0000</td>\n",
       "      <td>X99</td>\n",
       "      <td>S</td>\n",
       "      <td>24.000000</td>\n",
       "      <td>Not Survived</td>\n",
       "      <td>[20-30)</td>\n",
       "      <td>2</td>\n",
       "      <td>&lt;=10yrs</td>\n",
       "    </tr>\n",
       "    <tr>\n",
       "      <th>865</th>\n",
       "      <td>866</td>\n",
       "      <td>1</td>\n",
       "      <td>2</td>\n",
       "      <td>Bystrom, Mrs. (Karolina)</td>\n",
       "      <td>female</td>\n",
       "      <td>42.0</td>\n",
       "      <td>0</td>\n",
       "      <td>0</td>\n",
       "      <td>236852</td>\n",
       "      <td>13.0000</td>\n",
       "      <td>X99</td>\n",
       "      <td>S</td>\n",
       "      <td>42.000000</td>\n",
       "      <td>Survived</td>\n",
       "      <td>[40-50)</td>\n",
       "      <td>2</td>\n",
       "      <td>&lt;=10yrs</td>\n",
       "    </tr>\n",
       "    <tr>\n",
       "      <th>866</th>\n",
       "      <td>867</td>\n",
       "      <td>1</td>\n",
       "      <td>2</td>\n",
       "      <td>Duran y More, Miss. Asuncion</td>\n",
       "      <td>female</td>\n",
       "      <td>27.0</td>\n",
       "      <td>1</td>\n",
       "      <td>0</td>\n",
       "      <td>SC/PARIS 2149</td>\n",
       "      <td>13.8583</td>\n",
       "      <td>X99</td>\n",
       "      <td>C</td>\n",
       "      <td>27.000000</td>\n",
       "      <td>Survived</td>\n",
       "      <td>[20-30)</td>\n",
       "      <td>2</td>\n",
       "      <td>&lt;=10yrs</td>\n",
       "    </tr>\n",
       "    <tr>\n",
       "      <th>867</th>\n",
       "      <td>868</td>\n",
       "      <td>0</td>\n",
       "      <td>1</td>\n",
       "      <td>Roebling, Mr. Washington Augustus II</td>\n",
       "      <td>male</td>\n",
       "      <td>31.0</td>\n",
       "      <td>0</td>\n",
       "      <td>0</td>\n",
       "      <td>PC 17590</td>\n",
       "      <td>50.4958</td>\n",
       "      <td>A24</td>\n",
       "      <td>S</td>\n",
       "      <td>31.000000</td>\n",
       "      <td>Not Survived</td>\n",
       "      <td>[30-40)</td>\n",
       "      <td>2</td>\n",
       "      <td>&lt;=10yrs</td>\n",
       "    </tr>\n",
       "    <tr>\n",
       "      <th>868</th>\n",
       "      <td>869</td>\n",
       "      <td>0</td>\n",
       "      <td>3</td>\n",
       "      <td>van Melkebeke, Mr. Philemon</td>\n",
       "      <td>male</td>\n",
       "      <td>NaN</td>\n",
       "      <td>0</td>\n",
       "      <td>0</td>\n",
       "      <td>345777</td>\n",
       "      <td>9.5000</td>\n",
       "      <td>X99</td>\n",
       "      <td>S</td>\n",
       "      <td>29.699118</td>\n",
       "      <td>Not Survived</td>\n",
       "      <td>NaN</td>\n",
       "      <td>2</td>\n",
       "      <td>&lt;=10yrs</td>\n",
       "    </tr>\n",
       "    <tr>\n",
       "      <th>869</th>\n",
       "      <td>870</td>\n",
       "      <td>1</td>\n",
       "      <td>3</td>\n",
       "      <td>Johnson, Master. Harold Theodor</td>\n",
       "      <td>male</td>\n",
       "      <td>4.0</td>\n",
       "      <td>1</td>\n",
       "      <td>1</td>\n",
       "      <td>347742</td>\n",
       "      <td>11.1333</td>\n",
       "      <td>X99</td>\n",
       "      <td>S</td>\n",
       "      <td>4.000000</td>\n",
       "      <td>Survived</td>\n",
       "      <td>(0-10)</td>\n",
       "      <td>1</td>\n",
       "      <td>&gt;10yrs</td>\n",
       "    </tr>\n",
       "    <tr>\n",
       "      <th>870</th>\n",
       "      <td>871</td>\n",
       "      <td>0</td>\n",
       "      <td>3</td>\n",
       "      <td>Balkic, Mr. Cerin</td>\n",
       "      <td>male</td>\n",
       "      <td>26.0</td>\n",
       "      <td>0</td>\n",
       "      <td>0</td>\n",
       "      <td>349248</td>\n",
       "      <td>7.8958</td>\n",
       "      <td>X99</td>\n",
       "      <td>S</td>\n",
       "      <td>26.000000</td>\n",
       "      <td>Not Survived</td>\n",
       "      <td>[20-30)</td>\n",
       "      <td>2</td>\n",
       "      <td>&lt;=10yrs</td>\n",
       "    </tr>\n",
       "    <tr>\n",
       "      <th>871</th>\n",
       "      <td>872</td>\n",
       "      <td>1</td>\n",
       "      <td>1</td>\n",
       "      <td>Beckwith, Mrs. Richard Leonard (Sallie Monypeny)</td>\n",
       "      <td>female</td>\n",
       "      <td>47.0</td>\n",
       "      <td>1</td>\n",
       "      <td>1</td>\n",
       "      <td>11751</td>\n",
       "      <td>52.5542</td>\n",
       "      <td>D35</td>\n",
       "      <td>S</td>\n",
       "      <td>47.000000</td>\n",
       "      <td>Survived</td>\n",
       "      <td>[40-50)</td>\n",
       "      <td>2</td>\n",
       "      <td>&lt;=10yrs</td>\n",
       "    </tr>\n",
       "    <tr>\n",
       "      <th>872</th>\n",
       "      <td>873</td>\n",
       "      <td>0</td>\n",
       "      <td>1</td>\n",
       "      <td>Carlsson, Mr. Frans Olof</td>\n",
       "      <td>male</td>\n",
       "      <td>33.0</td>\n",
       "      <td>0</td>\n",
       "      <td>0</td>\n",
       "      <td>695</td>\n",
       "      <td>5.0000</td>\n",
       "      <td>B51 B53 B55</td>\n",
       "      <td>S</td>\n",
       "      <td>33.000000</td>\n",
       "      <td>Not Survived</td>\n",
       "      <td>[30-40)</td>\n",
       "      <td>2</td>\n",
       "      <td>&lt;=10yrs</td>\n",
       "    </tr>\n",
       "    <tr>\n",
       "      <th>873</th>\n",
       "      <td>874</td>\n",
       "      <td>0</td>\n",
       "      <td>3</td>\n",
       "      <td>Vander Cruyssen, Mr. Victor</td>\n",
       "      <td>male</td>\n",
       "      <td>47.0</td>\n",
       "      <td>0</td>\n",
       "      <td>0</td>\n",
       "      <td>345765</td>\n",
       "      <td>9.0000</td>\n",
       "      <td>X99</td>\n",
       "      <td>S</td>\n",
       "      <td>47.000000</td>\n",
       "      <td>Not Survived</td>\n",
       "      <td>[40-50)</td>\n",
       "      <td>2</td>\n",
       "      <td>&lt;=10yrs</td>\n",
       "    </tr>\n",
       "    <tr>\n",
       "      <th>874</th>\n",
       "      <td>875</td>\n",
       "      <td>1</td>\n",
       "      <td>2</td>\n",
       "      <td>Abelson, Mrs. Samuel (Hannah Wizosky)</td>\n",
       "      <td>female</td>\n",
       "      <td>28.0</td>\n",
       "      <td>1</td>\n",
       "      <td>0</td>\n",
       "      <td>P/PP 3381</td>\n",
       "      <td>24.0000</td>\n",
       "      <td>X99</td>\n",
       "      <td>C</td>\n",
       "      <td>28.000000</td>\n",
       "      <td>Survived</td>\n",
       "      <td>[20-30)</td>\n",
       "      <td>2</td>\n",
       "      <td>&lt;=10yrs</td>\n",
       "    </tr>\n",
       "    <tr>\n",
       "      <th>875</th>\n",
       "      <td>876</td>\n",
       "      <td>1</td>\n",
       "      <td>3</td>\n",
       "      <td>Najib, Miss. Adele Kiamie \"Jane\"</td>\n",
       "      <td>female</td>\n",
       "      <td>15.0</td>\n",
       "      <td>0</td>\n",
       "      <td>0</td>\n",
       "      <td>2667</td>\n",
       "      <td>7.2250</td>\n",
       "      <td>X99</td>\n",
       "      <td>C</td>\n",
       "      <td>15.000000</td>\n",
       "      <td>Survived</td>\n",
       "      <td>[10-20)</td>\n",
       "      <td>2</td>\n",
       "      <td>&lt;=10yrs</td>\n",
       "    </tr>\n",
       "    <tr>\n",
       "      <th>876</th>\n",
       "      <td>877</td>\n",
       "      <td>0</td>\n",
       "      <td>3</td>\n",
       "      <td>Gustafsson, Mr. Alfred Ossian</td>\n",
       "      <td>male</td>\n",
       "      <td>20.0</td>\n",
       "      <td>0</td>\n",
       "      <td>0</td>\n",
       "      <td>7534</td>\n",
       "      <td>9.8458</td>\n",
       "      <td>X99</td>\n",
       "      <td>S</td>\n",
       "      <td>20.000000</td>\n",
       "      <td>Not Survived</td>\n",
       "      <td>[10-20)</td>\n",
       "      <td>2</td>\n",
       "      <td>&lt;=10yrs</td>\n",
       "    </tr>\n",
       "    <tr>\n",
       "      <th>877</th>\n",
       "      <td>878</td>\n",
       "      <td>0</td>\n",
       "      <td>3</td>\n",
       "      <td>Petroff, Mr. Nedelio</td>\n",
       "      <td>male</td>\n",
       "      <td>19.0</td>\n",
       "      <td>0</td>\n",
       "      <td>0</td>\n",
       "      <td>349212</td>\n",
       "      <td>7.8958</td>\n",
       "      <td>X99</td>\n",
       "      <td>S</td>\n",
       "      <td>19.000000</td>\n",
       "      <td>Not Survived</td>\n",
       "      <td>[10-20)</td>\n",
       "      <td>2</td>\n",
       "      <td>&lt;=10yrs</td>\n",
       "    </tr>\n",
       "    <tr>\n",
       "      <th>878</th>\n",
       "      <td>879</td>\n",
       "      <td>0</td>\n",
       "      <td>3</td>\n",
       "      <td>Laleff, Mr. Kristo</td>\n",
       "      <td>male</td>\n",
       "      <td>NaN</td>\n",
       "      <td>0</td>\n",
       "      <td>0</td>\n",
       "      <td>349217</td>\n",
       "      <td>7.8958</td>\n",
       "      <td>X99</td>\n",
       "      <td>S</td>\n",
       "      <td>29.699118</td>\n",
       "      <td>Not Survived</td>\n",
       "      <td>NaN</td>\n",
       "      <td>2</td>\n",
       "      <td>&lt;=10yrs</td>\n",
       "    </tr>\n",
       "    <tr>\n",
       "      <th>879</th>\n",
       "      <td>880</td>\n",
       "      <td>1</td>\n",
       "      <td>1</td>\n",
       "      <td>Potter, Mrs. Thomas Jr (Lily Alexenia Wilson)</td>\n",
       "      <td>female</td>\n",
       "      <td>56.0</td>\n",
       "      <td>0</td>\n",
       "      <td>1</td>\n",
       "      <td>11767</td>\n",
       "      <td>83.1583</td>\n",
       "      <td>C50</td>\n",
       "      <td>C</td>\n",
       "      <td>56.000000</td>\n",
       "      <td>Survived</td>\n",
       "      <td>[50-60)</td>\n",
       "      <td>2</td>\n",
       "      <td>&lt;=10yrs</td>\n",
       "    </tr>\n",
       "    <tr>\n",
       "      <th>880</th>\n",
       "      <td>881</td>\n",
       "      <td>1</td>\n",
       "      <td>2</td>\n",
       "      <td>Shelley, Mrs. William (Imanita Parrish Hall)</td>\n",
       "      <td>female</td>\n",
       "      <td>25.0</td>\n",
       "      <td>0</td>\n",
       "      <td>1</td>\n",
       "      <td>230433</td>\n",
       "      <td>26.0000</td>\n",
       "      <td>X99</td>\n",
       "      <td>S</td>\n",
       "      <td>25.000000</td>\n",
       "      <td>Survived</td>\n",
       "      <td>[20-30)</td>\n",
       "      <td>2</td>\n",
       "      <td>&lt;=10yrs</td>\n",
       "    </tr>\n",
       "    <tr>\n",
       "      <th>881</th>\n",
       "      <td>882</td>\n",
       "      <td>0</td>\n",
       "      <td>3</td>\n",
       "      <td>Markun, Mr. Johann</td>\n",
       "      <td>male</td>\n",
       "      <td>33.0</td>\n",
       "      <td>0</td>\n",
       "      <td>0</td>\n",
       "      <td>349257</td>\n",
       "      <td>7.8958</td>\n",
       "      <td>X99</td>\n",
       "      <td>S</td>\n",
       "      <td>33.000000</td>\n",
       "      <td>Not Survived</td>\n",
       "      <td>[30-40)</td>\n",
       "      <td>2</td>\n",
       "      <td>&lt;=10yrs</td>\n",
       "    </tr>\n",
       "    <tr>\n",
       "      <th>882</th>\n",
       "      <td>883</td>\n",
       "      <td>0</td>\n",
       "      <td>3</td>\n",
       "      <td>Dahlberg, Miss. Gerda Ulrika</td>\n",
       "      <td>female</td>\n",
       "      <td>22.0</td>\n",
       "      <td>0</td>\n",
       "      <td>0</td>\n",
       "      <td>7552</td>\n",
       "      <td>10.5167</td>\n",
       "      <td>X99</td>\n",
       "      <td>S</td>\n",
       "      <td>22.000000</td>\n",
       "      <td>Not Survived</td>\n",
       "      <td>[20-30)</td>\n",
       "      <td>2</td>\n",
       "      <td>&lt;=10yrs</td>\n",
       "    </tr>\n",
       "    <tr>\n",
       "      <th>883</th>\n",
       "      <td>884</td>\n",
       "      <td>0</td>\n",
       "      <td>2</td>\n",
       "      <td>Banfield, Mr. Frederick James</td>\n",
       "      <td>male</td>\n",
       "      <td>28.0</td>\n",
       "      <td>0</td>\n",
       "      <td>0</td>\n",
       "      <td>C.A./SOTON 34068</td>\n",
       "      <td>10.5000</td>\n",
       "      <td>X99</td>\n",
       "      <td>S</td>\n",
       "      <td>28.000000</td>\n",
       "      <td>Not Survived</td>\n",
       "      <td>[20-30)</td>\n",
       "      <td>2</td>\n",
       "      <td>&lt;=10yrs</td>\n",
       "    </tr>\n",
       "    <tr>\n",
       "      <th>884</th>\n",
       "      <td>885</td>\n",
       "      <td>0</td>\n",
       "      <td>3</td>\n",
       "      <td>Sutehall, Mr. Henry Jr</td>\n",
       "      <td>male</td>\n",
       "      <td>25.0</td>\n",
       "      <td>0</td>\n",
       "      <td>0</td>\n",
       "      <td>SOTON/OQ 392076</td>\n",
       "      <td>7.0500</td>\n",
       "      <td>X99</td>\n",
       "      <td>S</td>\n",
       "      <td>25.000000</td>\n",
       "      <td>Not Survived</td>\n",
       "      <td>[20-30)</td>\n",
       "      <td>2</td>\n",
       "      <td>&lt;=10yrs</td>\n",
       "    </tr>\n",
       "    <tr>\n",
       "      <th>885</th>\n",
       "      <td>886</td>\n",
       "      <td>0</td>\n",
       "      <td>3</td>\n",
       "      <td>Rice, Mrs. William (Margaret Norton)</td>\n",
       "      <td>female</td>\n",
       "      <td>39.0</td>\n",
       "      <td>0</td>\n",
       "      <td>5</td>\n",
       "      <td>382652</td>\n",
       "      <td>29.1250</td>\n",
       "      <td>X99</td>\n",
       "      <td>Q</td>\n",
       "      <td>39.000000</td>\n",
       "      <td>Not Survived</td>\n",
       "      <td>[30-40)</td>\n",
       "      <td>2</td>\n",
       "      <td>&lt;=10yrs</td>\n",
       "    </tr>\n",
       "    <tr>\n",
       "      <th>886</th>\n",
       "      <td>887</td>\n",
       "      <td>0</td>\n",
       "      <td>2</td>\n",
       "      <td>Montvila, Rev. Juozas</td>\n",
       "      <td>male</td>\n",
       "      <td>27.0</td>\n",
       "      <td>0</td>\n",
       "      <td>0</td>\n",
       "      <td>211536</td>\n",
       "      <td>13.0000</td>\n",
       "      <td>X99</td>\n",
       "      <td>S</td>\n",
       "      <td>27.000000</td>\n",
       "      <td>Not Survived</td>\n",
       "      <td>[20-30)</td>\n",
       "      <td>2</td>\n",
       "      <td>&lt;=10yrs</td>\n",
       "    </tr>\n",
       "    <tr>\n",
       "      <th>887</th>\n",
       "      <td>888</td>\n",
       "      <td>1</td>\n",
       "      <td>1</td>\n",
       "      <td>Graham, Miss. Margaret Edith</td>\n",
       "      <td>female</td>\n",
       "      <td>19.0</td>\n",
       "      <td>0</td>\n",
       "      <td>0</td>\n",
       "      <td>112053</td>\n",
       "      <td>30.0000</td>\n",
       "      <td>B42</td>\n",
       "      <td>S</td>\n",
       "      <td>19.000000</td>\n",
       "      <td>Survived</td>\n",
       "      <td>[10-20)</td>\n",
       "      <td>2</td>\n",
       "      <td>&lt;=10yrs</td>\n",
       "    </tr>\n",
       "    <tr>\n",
       "      <th>888</th>\n",
       "      <td>889</td>\n",
       "      <td>0</td>\n",
       "      <td>3</td>\n",
       "      <td>Johnston, Miss. Catherine Helen \"Carrie\"</td>\n",
       "      <td>female</td>\n",
       "      <td>NaN</td>\n",
       "      <td>1</td>\n",
       "      <td>2</td>\n",
       "      <td>W./C. 6607</td>\n",
       "      <td>23.4500</td>\n",
       "      <td>X99</td>\n",
       "      <td>S</td>\n",
       "      <td>29.699118</td>\n",
       "      <td>Not Survived</td>\n",
       "      <td>NaN</td>\n",
       "      <td>2</td>\n",
       "      <td>&lt;=10yrs</td>\n",
       "    </tr>\n",
       "    <tr>\n",
       "      <th>889</th>\n",
       "      <td>890</td>\n",
       "      <td>1</td>\n",
       "      <td>1</td>\n",
       "      <td>Behr, Mr. Karl Howell</td>\n",
       "      <td>male</td>\n",
       "      <td>26.0</td>\n",
       "      <td>0</td>\n",
       "      <td>0</td>\n",
       "      <td>111369</td>\n",
       "      <td>30.0000</td>\n",
       "      <td>C148</td>\n",
       "      <td>C</td>\n",
       "      <td>26.000000</td>\n",
       "      <td>Survived</td>\n",
       "      <td>[20-30)</td>\n",
       "      <td>2</td>\n",
       "      <td>&lt;=10yrs</td>\n",
       "    </tr>\n",
       "    <tr>\n",
       "      <th>890</th>\n",
       "      <td>891</td>\n",
       "      <td>0</td>\n",
       "      <td>3</td>\n",
       "      <td>Dooley, Mr. Patrick</td>\n",
       "      <td>male</td>\n",
       "      <td>32.0</td>\n",
       "      <td>0</td>\n",
       "      <td>0</td>\n",
       "      <td>370376</td>\n",
       "      <td>7.7500</td>\n",
       "      <td>X99</td>\n",
       "      <td>Q</td>\n",
       "      <td>32.000000</td>\n",
       "      <td>Not Survived</td>\n",
       "      <td>[30-40)</td>\n",
       "      <td>2</td>\n",
       "      <td>&lt;=10yrs</td>\n",
       "    </tr>\n",
       "  </tbody>\n",
       "</table>\n",
       "<p>891 rows × 17 columns</p>\n",
       "</div>"
      ],
      "text/plain": [
       "     PassengerId  Survived  Pclass  \\\n",
       "0              1         0       3   \n",
       "1              2         1       1   \n",
       "2              3         1       3   \n",
       "3              4         1       1   \n",
       "4              5         0       3   \n",
       "5              6         0       3   \n",
       "6              7         0       1   \n",
       "7              8         0       3   \n",
       "8              9         1       3   \n",
       "9             10         1       2   \n",
       "10            11         1       3   \n",
       "11            12         1       1   \n",
       "12            13         0       3   \n",
       "13            14         0       3   \n",
       "14            15         0       3   \n",
       "15            16         1       2   \n",
       "16            17         0       3   \n",
       "17            18         1       2   \n",
       "18            19         0       3   \n",
       "19            20         1       3   \n",
       "20            21         0       2   \n",
       "21            22         1       2   \n",
       "22            23         1       3   \n",
       "23            24         1       1   \n",
       "24            25         0       3   \n",
       "25            26         1       3   \n",
       "26            27         0       3   \n",
       "27            28         0       1   \n",
       "28            29         1       3   \n",
       "29            30         0       3   \n",
       "..           ...       ...     ...   \n",
       "861          862         0       2   \n",
       "862          863         1       1   \n",
       "863          864         0       3   \n",
       "864          865         0       2   \n",
       "865          866         1       2   \n",
       "866          867         1       2   \n",
       "867          868         0       1   \n",
       "868          869         0       3   \n",
       "869          870         1       3   \n",
       "870          871         0       3   \n",
       "871          872         1       1   \n",
       "872          873         0       1   \n",
       "873          874         0       3   \n",
       "874          875         1       2   \n",
       "875          876         1       3   \n",
       "876          877         0       3   \n",
       "877          878         0       3   \n",
       "878          879         0       3   \n",
       "879          880         1       1   \n",
       "880          881         1       2   \n",
       "881          882         0       3   \n",
       "882          883         0       3   \n",
       "883          884         0       2   \n",
       "884          885         0       3   \n",
       "885          886         0       3   \n",
       "886          887         0       2   \n",
       "887          888         1       1   \n",
       "888          889         0       3   \n",
       "889          890         1       1   \n",
       "890          891         0       3   \n",
       "\n",
       "                                                  Name     Sex   Age  SibSp  \\\n",
       "0                              Braund, Mr. Owen Harris    male  22.0      1   \n",
       "1    Cumings, Mrs. John Bradley (Florence Briggs Th...  female  38.0      1   \n",
       "2                               Heikkinen, Miss. Laina  female  26.0      0   \n",
       "3         Futrelle, Mrs. Jacques Heath (Lily May Peel)  female  35.0      1   \n",
       "4                             Allen, Mr. William Henry    male  35.0      0   \n",
       "5                                     Moran, Mr. James    male   NaN      0   \n",
       "6                              McCarthy, Mr. Timothy J    male  54.0      0   \n",
       "7                       Palsson, Master. Gosta Leonard    male   2.0      3   \n",
       "8    Johnson, Mrs. Oscar W (Elisabeth Vilhelmina Berg)  female  27.0      0   \n",
       "9                  Nasser, Mrs. Nicholas (Adele Achem)  female  14.0      1   \n",
       "10                     Sandstrom, Miss. Marguerite Rut  female   4.0      1   \n",
       "11                            Bonnell, Miss. Elizabeth  female  58.0      0   \n",
       "12                      Saundercock, Mr. William Henry    male  20.0      0   \n",
       "13                         Andersson, Mr. Anders Johan    male  39.0      1   \n",
       "14                Vestrom, Miss. Hulda Amanda Adolfina  female  14.0      0   \n",
       "15                    Hewlett, Mrs. (Mary D Kingcome)   female  55.0      0   \n",
       "16                                Rice, Master. Eugene    male   2.0      4   \n",
       "17                        Williams, Mr. Charles Eugene    male   NaN      0   \n",
       "18   Vander Planke, Mrs. Julius (Emelia Maria Vande...  female  31.0      1   \n",
       "19                             Masselmani, Mrs. Fatima  female   NaN      0   \n",
       "20                                Fynney, Mr. Joseph J    male  35.0      0   \n",
       "21                               Beesley, Mr. Lawrence    male  34.0      0   \n",
       "22                         McGowan, Miss. Anna \"Annie\"  female  15.0      0   \n",
       "23                        Sloper, Mr. William Thompson    male  28.0      0   \n",
       "24                       Palsson, Miss. Torborg Danira  female   8.0      3   \n",
       "25   Asplund, Mrs. Carl Oscar (Selma Augusta Emilia...  female  38.0      1   \n",
       "26                             Emir, Mr. Farred Chehab    male   NaN      0   \n",
       "27                      Fortune, Mr. Charles Alexander    male  19.0      3   \n",
       "28                       O'Dwyer, Miss. Ellen \"Nellie\"  female   NaN      0   \n",
       "29                                 Todoroff, Mr. Lalio    male   NaN      0   \n",
       "..                                                 ...     ...   ...    ...   \n",
       "861                        Giles, Mr. Frederick Edward    male  21.0      1   \n",
       "862  Swift, Mrs. Frederick Joel (Margaret Welles Ba...  female  48.0      0   \n",
       "863                  Sage, Miss. Dorothy Edith \"Dolly\"  female   NaN      8   \n",
       "864                             Gill, Mr. John William    male  24.0      0   \n",
       "865                           Bystrom, Mrs. (Karolina)  female  42.0      0   \n",
       "866                       Duran y More, Miss. Asuncion  female  27.0      1   \n",
       "867               Roebling, Mr. Washington Augustus II    male  31.0      0   \n",
       "868                        van Melkebeke, Mr. Philemon    male   NaN      0   \n",
       "869                    Johnson, Master. Harold Theodor    male   4.0      1   \n",
       "870                                  Balkic, Mr. Cerin    male  26.0      0   \n",
       "871   Beckwith, Mrs. Richard Leonard (Sallie Monypeny)  female  47.0      1   \n",
       "872                           Carlsson, Mr. Frans Olof    male  33.0      0   \n",
       "873                        Vander Cruyssen, Mr. Victor    male  47.0      0   \n",
       "874              Abelson, Mrs. Samuel (Hannah Wizosky)  female  28.0      1   \n",
       "875                   Najib, Miss. Adele Kiamie \"Jane\"  female  15.0      0   \n",
       "876                      Gustafsson, Mr. Alfred Ossian    male  20.0      0   \n",
       "877                               Petroff, Mr. Nedelio    male  19.0      0   \n",
       "878                                 Laleff, Mr. Kristo    male   NaN      0   \n",
       "879      Potter, Mrs. Thomas Jr (Lily Alexenia Wilson)  female  56.0      0   \n",
       "880       Shelley, Mrs. William (Imanita Parrish Hall)  female  25.0      0   \n",
       "881                                 Markun, Mr. Johann    male  33.0      0   \n",
       "882                       Dahlberg, Miss. Gerda Ulrika  female  22.0      0   \n",
       "883                      Banfield, Mr. Frederick James    male  28.0      0   \n",
       "884                             Sutehall, Mr. Henry Jr    male  25.0      0   \n",
       "885               Rice, Mrs. William (Margaret Norton)  female  39.0      0   \n",
       "886                              Montvila, Rev. Juozas    male  27.0      0   \n",
       "887                       Graham, Miss. Margaret Edith  female  19.0      0   \n",
       "888           Johnston, Miss. Catherine Helen \"Carrie\"  female   NaN      1   \n",
       "889                              Behr, Mr. Karl Howell    male  26.0      0   \n",
       "890                                Dooley, Mr. Patrick    male  32.0      0   \n",
       "\n",
       "     Parch            Ticket      Fare        Cabin Embarked  Passengers_age  \\\n",
       "0        0         A/5 21171    7.2500          X99        S       22.000000   \n",
       "1        0          PC 17599   71.2833          C85        C       38.000000   \n",
       "2        0  STON/O2. 3101282    7.9250          X99        S       26.000000   \n",
       "3        0            113803   53.1000         C123        S       35.000000   \n",
       "4        0            373450    8.0500          X99        S       35.000000   \n",
       "5        0            330877    8.4583          X99        Q       29.699118   \n",
       "6        0             17463   51.8625          E46        S       54.000000   \n",
       "7        1            349909   21.0750          X99        S        2.000000   \n",
       "8        2            347742   11.1333          X99        S       27.000000   \n",
       "9        0            237736   30.0708          X99        C       14.000000   \n",
       "10       1           PP 9549   16.7000           G6        S        4.000000   \n",
       "11       0            113783   26.5500         C103        S       58.000000   \n",
       "12       0         A/5. 2151    8.0500          X99        S       20.000000   \n",
       "13       5            347082   31.2750          X99        S       39.000000   \n",
       "14       0            350406    7.8542          X99        S       14.000000   \n",
       "15       0            248706   16.0000          X99        S       55.000000   \n",
       "16       1            382652   29.1250          X99        Q        2.000000   \n",
       "17       0            244373   13.0000          X99        S       29.699118   \n",
       "18       0            345763   18.0000          X99        S       31.000000   \n",
       "19       0              2649    7.2250          X99        C       29.699118   \n",
       "20       0            239865   26.0000          X99        S       35.000000   \n",
       "21       0            248698   13.0000          D56        S       34.000000   \n",
       "22       0            330923    8.0292          X99        Q       15.000000   \n",
       "23       0            113788   35.5000           A6        S       28.000000   \n",
       "24       1            349909   21.0750          X99        S        8.000000   \n",
       "25       5            347077   31.3875          X99        S       38.000000   \n",
       "26       0              2631    7.2250          X99        C       29.699118   \n",
       "27       2             19950  263.0000  C23 C25 C27        S       19.000000   \n",
       "28       0            330959    7.8792          X99        Q       29.699118   \n",
       "29       0            349216    7.8958          X99        S       29.699118   \n",
       "..     ...               ...       ...          ...      ...             ...   \n",
       "861      0             28134   11.5000          X99        S       21.000000   \n",
       "862      0             17466   25.9292          D17        S       48.000000   \n",
       "863      2          CA. 2343   69.5500          X99        S       29.699118   \n",
       "864      0            233866   13.0000          X99        S       24.000000   \n",
       "865      0            236852   13.0000          X99        S       42.000000   \n",
       "866      0     SC/PARIS 2149   13.8583          X99        C       27.000000   \n",
       "867      0          PC 17590   50.4958          A24        S       31.000000   \n",
       "868      0            345777    9.5000          X99        S       29.699118   \n",
       "869      1            347742   11.1333          X99        S        4.000000   \n",
       "870      0            349248    7.8958          X99        S       26.000000   \n",
       "871      1             11751   52.5542          D35        S       47.000000   \n",
       "872      0               695    5.0000  B51 B53 B55        S       33.000000   \n",
       "873      0            345765    9.0000          X99        S       47.000000   \n",
       "874      0         P/PP 3381   24.0000          X99        C       28.000000   \n",
       "875      0              2667    7.2250          X99        C       15.000000   \n",
       "876      0              7534    9.8458          X99        S       20.000000   \n",
       "877      0            349212    7.8958          X99        S       19.000000   \n",
       "878      0            349217    7.8958          X99        S       29.699118   \n",
       "879      1             11767   83.1583          C50        C       56.000000   \n",
       "880      1            230433   26.0000          X99        S       25.000000   \n",
       "881      0            349257    7.8958          X99        S       33.000000   \n",
       "882      0              7552   10.5167          X99        S       22.000000   \n",
       "883      0  C.A./SOTON 34068   10.5000          X99        S       28.000000   \n",
       "884      0   SOTON/OQ 392076    7.0500          X99        S       25.000000   \n",
       "885      5            382652   29.1250          X99        Q       39.000000   \n",
       "886      0            211536   13.0000          X99        S       27.000000   \n",
       "887      0            112053   30.0000          B42        S       19.000000   \n",
       "888      2        W./C. 6607   23.4500          X99        S       29.699118   \n",
       "889      0            111369   30.0000         C148        C       26.000000   \n",
       "890      0            370376    7.7500          X99        Q       32.000000   \n",
       "\n",
       "    Passengers_survival Age_group  Age_below_and_above_10  \\\n",
       "0          Not Survived   [20-30)                       2   \n",
       "1              Survived   [30-40)                       2   \n",
       "2              Survived   [20-30)                       2   \n",
       "3              Survived   [30-40)                       2   \n",
       "4          Not Survived   [30-40)                       2   \n",
       "5          Not Survived       NaN                       2   \n",
       "6          Not Survived   [50-60)                       2   \n",
       "7          Not Survived    (0-10)                       1   \n",
       "8              Survived   [20-30)                       2   \n",
       "9              Survived   [10-20)                       2   \n",
       "10             Survived    (0-10)                       1   \n",
       "11             Survived   [50-60)                       2   \n",
       "12         Not Survived   [10-20)                       2   \n",
       "13         Not Survived   [30-40)                       2   \n",
       "14         Not Survived   [10-20)                       2   \n",
       "15             Survived   [50-60)                       2   \n",
       "16         Not Survived    (0-10)                       1   \n",
       "17             Survived       NaN                       2   \n",
       "18         Not Survived   [30-40)                       2   \n",
       "19             Survived       NaN                       2   \n",
       "20         Not Survived   [30-40)                       2   \n",
       "21             Survived   [30-40)                       2   \n",
       "22             Survived   [10-20)                       2   \n",
       "23             Survived   [20-30)                       2   \n",
       "24         Not Survived    (0-10)                       1   \n",
       "25             Survived   [30-40)                       2   \n",
       "26         Not Survived       NaN                       2   \n",
       "27         Not Survived   [10-20)                       2   \n",
       "28             Survived       NaN                       2   \n",
       "29         Not Survived       NaN                       2   \n",
       "..                  ...       ...                     ...   \n",
       "861        Not Survived   [20-30)                       2   \n",
       "862            Survived   [40-50)                       2   \n",
       "863        Not Survived       NaN                       2   \n",
       "864        Not Survived   [20-30)                       2   \n",
       "865            Survived   [40-50)                       2   \n",
       "866            Survived   [20-30)                       2   \n",
       "867        Not Survived   [30-40)                       2   \n",
       "868        Not Survived       NaN                       2   \n",
       "869            Survived    (0-10)                       1   \n",
       "870        Not Survived   [20-30)                       2   \n",
       "871            Survived   [40-50)                       2   \n",
       "872        Not Survived   [30-40)                       2   \n",
       "873        Not Survived   [40-50)                       2   \n",
       "874            Survived   [20-30)                       2   \n",
       "875            Survived   [10-20)                       2   \n",
       "876        Not Survived   [10-20)                       2   \n",
       "877        Not Survived   [10-20)                       2   \n",
       "878        Not Survived       NaN                       2   \n",
       "879            Survived   [50-60)                       2   \n",
       "880            Survived   [20-30)                       2   \n",
       "881        Not Survived   [30-40)                       2   \n",
       "882        Not Survived   [20-30)                       2   \n",
       "883        Not Survived   [20-30)                       2   \n",
       "884        Not Survived   [20-30)                       2   \n",
       "885        Not Survived   [30-40)                       2   \n",
       "886        Not Survived   [20-30)                       2   \n",
       "887            Survived   [10-20)                       2   \n",
       "888        Not Survived       NaN                       2   \n",
       "889            Survived   [20-30)                       2   \n",
       "890        Not Survived   [30-40)                       2   \n",
       "\n",
       "    Age_group_Children_Adult  \n",
       "0                    <=10yrs  \n",
       "1                    <=10yrs  \n",
       "2                    <=10yrs  \n",
       "3                    <=10yrs  \n",
       "4                    <=10yrs  \n",
       "5                    <=10yrs  \n",
       "6                    <=10yrs  \n",
       "7                     >10yrs  \n",
       "8                    <=10yrs  \n",
       "9                    <=10yrs  \n",
       "10                    >10yrs  \n",
       "11                   <=10yrs  \n",
       "12                   <=10yrs  \n",
       "13                   <=10yrs  \n",
       "14                   <=10yrs  \n",
       "15                   <=10yrs  \n",
       "16                    >10yrs  \n",
       "17                   <=10yrs  \n",
       "18                   <=10yrs  \n",
       "19                   <=10yrs  \n",
       "20                   <=10yrs  \n",
       "21                   <=10yrs  \n",
       "22                   <=10yrs  \n",
       "23                   <=10yrs  \n",
       "24                    >10yrs  \n",
       "25                   <=10yrs  \n",
       "26                   <=10yrs  \n",
       "27                   <=10yrs  \n",
       "28                   <=10yrs  \n",
       "29                   <=10yrs  \n",
       "..                       ...  \n",
       "861                  <=10yrs  \n",
       "862                  <=10yrs  \n",
       "863                  <=10yrs  \n",
       "864                  <=10yrs  \n",
       "865                  <=10yrs  \n",
       "866                  <=10yrs  \n",
       "867                  <=10yrs  \n",
       "868                  <=10yrs  \n",
       "869                   >10yrs  \n",
       "870                  <=10yrs  \n",
       "871                  <=10yrs  \n",
       "872                  <=10yrs  \n",
       "873                  <=10yrs  \n",
       "874                  <=10yrs  \n",
       "875                  <=10yrs  \n",
       "876                  <=10yrs  \n",
       "877                  <=10yrs  \n",
       "878                  <=10yrs  \n",
       "879                  <=10yrs  \n",
       "880                  <=10yrs  \n",
       "881                  <=10yrs  \n",
       "882                  <=10yrs  \n",
       "883                  <=10yrs  \n",
       "884                  <=10yrs  \n",
       "885                  <=10yrs  \n",
       "886                  <=10yrs  \n",
       "887                  <=10yrs  \n",
       "888                  <=10yrs  \n",
       "889                  <=10yrs  \n",
       "890                  <=10yrs  \n",
       "\n",
       "[891 rows x 17 columns]"
      ]
     },
     "execution_count": 1523,
     "metadata": {},
     "output_type": "execute_result"
    }
   ],
   "source": [
    "Age_group_Children_Adult = pd.Categorical(titanic_dataframe[\"Age_below_and_above_10\"])\n",
    "Age_group_Children_Adult = Age_group_10.rename_categories(['>= 10yrs',\"<10yrs\",])\n",
    "titanic_dataframe[\"Age_group_Children_Adult\"]= pd.Categorical(titanic_dataframe[\"Age_below_and_above_10\"])\n",
    "titanic_dataframe[\"Age_group_Children_Adult\"] = Age_group_10.rename_categories(['>10yrs','<=10yrs'])\n",
    "titanic_dataframe[\"Age_group_Children_Adult\"].value_counts(sort=False)\n",
    "titanic_dataframe"
   ]
  },
  {
   "cell_type": "markdown",
   "metadata": {
    "collapsed": true
   },
   "source": [
    "Both the new created age group(Age_group_Children_Adult) and Survived are catogorical variables. Chi-square test is used."
   ]
  },
  {
   "cell_type": "code",
   "execution_count": 1524,
   "metadata": {
    "collapsed": false
   },
   "outputs": [
    {
     "data": {
      "text/plain": [
       "(11.907976104399694,\n",
       " 0.00055894095730842531,\n",
       " 1L,\n",
       " array([[  39.43434343,  509.56565657],\n",
       "        [  24.56565657,  317.43434343]]))"
      ]
     },
     "execution_count": 1524,
     "metadata": {},
     "output_type": "execute_result"
    }
   ],
   "source": [
    "from scipy.stats import chi2_contingency\n",
    "chi2_contingency(pd.crosstab(titanic_dataframe.Survived, titanic_dataframe.Age_group_Children_Adult))"
   ]
  },
  {
   "cell_type": "markdown",
   "metadata": {},
   "source": [
    "The P-value is 0.00056, so the null hypothesis is rejected with 95% confidence interval. It can be concluded that the population mean survived of children aged 10 years old and below is greater than the population mean survived of adults. So age and survavial has relationship although we can not say that age was the cause as correlation does not imply causation.\n"
   ]
  },
  {
   "cell_type": "code",
   "execution_count": 1525,
   "metadata": {
    "collapsed": false
   },
   "outputs": [
    {
     "data": {
      "text/plain": [
       "count    891.000000\n",
       "mean      32.204208\n",
       "std       49.693429\n",
       "min        0.000000\n",
       "25%        7.910400\n",
       "50%       14.454200\n",
       "75%       31.000000\n",
       "max      512.329200\n",
       "Name: Fare, dtype: float64"
      ]
     },
     "execution_count": 1525,
     "metadata": {},
     "output_type": "execute_result"
    }
   ],
   "source": [
    "titanic_dataframe.Fare.describe()"
   ]
  },
  {
   "cell_type": "markdown",
   "metadata": {
    "collapsed": false
   },
   "source": [
    "## 3.3.3 Fare and Survival\n",
    "\n",
    "### Passengers Fare distribution \n"
   ]
  },
  {
   "cell_type": "markdown",
   "metadata": {},
   "source": [
    "The minimum ticket fare is 0.00 and the maximum is £512.33. The variation in the faire paid is vey high with standard devation of 49.69. The average ticket fare paid was £32.20."
   ]
  },
  {
   "cell_type": "code",
   "execution_count": 1533,
   "metadata": {
    "collapsed": false
   },
   "outputs": [
    {
     "data": {
      "image/png": "[encoded data removed]",
      "text/plain": [
       "<matplotlib.figure.Figure at 0x2670bf28>"
      ]
     },
     "metadata": {},
     "output_type": "display_data"
    }
   ],
   "source": [
    "sns.boxplot(x=\"Passengers_survival\", y=\"Fare\",data=titanic_dataframe);"
   ]
  },
  {
   "cell_type": "markdown",
   "metadata": {},
   "source": [
    "The graph shows us that there is an outlier value. I will consider this as expensive ticket. I will assume the 0.00 fare as free ticket. \n",
    "For better analysis I will group the Fare variable in new created variable."
   ]
  },
  {
   "cell_type": "code",
   "execution_count": 1534,
   "metadata": {
    "collapsed": false
   },
   "outputs": [
    {
     "data": {
      "text/plain": [
       "1     15\n",
       "2    716\n",
       "3    131\n",
       "4     20\n",
       "5      9\n",
       "Name: Fare_group, dtype: int64"
      ]
     },
     "execution_count": 1534,
     "metadata": {},
     "output_type": "execute_result"
    }
   ],
   "source": [
    "def Fare_group(row):   # Creating new variable to group the Fare paid\n",
    "    if row['Fare']== 0.00:\n",
    "        return 1\n",
    "    elif row['Fare'] <= 50.00:\n",
    "        return 2\n",
    "    elif row['Fare'] <= 150.00: \n",
    "        return 3\n",
    "    elif row['Fare'] <= 250.00:\n",
    "        return 4\n",
    "    elif row['Fare']> 250.00:\n",
    "        return 5\n",
    "titanic_dataframe['Fare_group']= titanic_dataframe.apply(lambda row:Fare_group(row), axis=1)\n",
    "Fare_freq= titanic_dataframe['Fare_group'].value_counts(sort=False,dropna=False)\n",
    "Fare_freq"
   ]
  },
  {
   "cell_type": "markdown",
   "metadata": {},
   "source": [
    "The price of many tickets was less than £50.00."
   ]
  },
  {
   "cell_type": "markdown",
   "metadata": {},
   "source": [
    "### Proportion of Survival by Fare paid"
   ]
  },
  {
   "cell_type": "code",
   "execution_count": 1535,
   "metadata": {
    "collapsed": false,
    "scrolled": true
   },
   "outputs": [
    {
     "data": {
      "text/plain": [
       "Free       15\n",
       ">=£50     716\n",
       ">=£150    131\n",
       ">=£250     20\n",
       "<£250       9\n",
       "dtype: int64"
      ]
     },
     "execution_count": 1535,
     "metadata": {},
     "output_type": "execute_result"
    }
   ],
   "source": [
    "Fare_group_Class = pd.Categorical(titanic_dataframe[\"Fare_group\"])\n",
    "Fare_group_Class = Fare_group_Class.rename_categories([\"Free\",\">=£50\",\">=£150\",\">=£250\",\"<£250\"])\n",
    "titanic_dataframe['Fare_group_Class']= pd.Categorical(titanic_dataframe[\"Fare_group\"])\n",
    "titanic_dataframe['Fare_group_Class'] = Fare_group_Class.rename_categories([\"Free\",\">=£50\",\">=£150\",\">=£250\",\"<£250\"])\n",
    "titanic_dataframe.Fare_group_Class.value_counts(sort=False)"
   ]
  },
  {
   "cell_type": "code",
   "execution_count": 1536,
   "metadata": {
    "collapsed": false
   },
   "outputs": [
    {
     "data": {
      "text/html": [
       "<div>\n",
       "<table border=\"1\" class=\"dataframe\">\n",
       "  <thead>\n",
       "    <tr style=\"text-align: right;\">\n",
       "      <th>Fare_group_Class</th>\n",
       "      <th>Free</th>\n",
       "      <th>&gt;=£50</th>\n",
       "      <th>&gt;=£150</th>\n",
       "      <th>&gt;=£250</th>\n",
       "      <th>&lt;£250</th>\n",
       "    </tr>\n",
       "    <tr>\n",
       "      <th>Passengers_survival</th>\n",
       "      <th></th>\n",
       "      <th></th>\n",
       "      <th></th>\n",
       "      <th></th>\n",
       "      <th></th>\n",
       "    </tr>\n",
       "  </thead>\n",
       "  <tbody>\n",
       "    <tr>\n",
       "      <th>Not Survived</th>\n",
       "      <td>93.333333</td>\n",
       "      <td>67.597765</td>\n",
       "      <td>32.061069</td>\n",
       "      <td>35.0</td>\n",
       "      <td>22.222222</td>\n",
       "    </tr>\n",
       "    <tr>\n",
       "      <th>Survived</th>\n",
       "      <td>6.666667</td>\n",
       "      <td>32.402235</td>\n",
       "      <td>67.938931</td>\n",
       "      <td>65.0</td>\n",
       "      <td>77.777778</td>\n",
       "    </tr>\n",
       "  </tbody>\n",
       "</table>\n",
       "</div>"
      ],
      "text/plain": [
       "Fare_group_Class          Free      >=£50     >=£150  >=£250      <£250\n",
       "Passengers_survival                                                    \n",
       "Not Survived         93.333333  67.597765  32.061069    35.0  22.222222\n",
       "Survived              6.666667  32.402235  67.938931    65.0  77.777778"
      ]
     },
     "execution_count": 1536,
     "metadata": {},
     "output_type": "execute_result"
    }
   ],
   "source": [
    "Survival_by_Fare=pd.crosstab(index=titanic_dataframe['Passengers_survival'], columns=titanic_dataframe['Fare_group_Class'])\n",
    "Survival_by_Fare_ratio = Survival_by_Fare.div(Survival_by_Fare.sum())\n",
    "Survival_by_Fare_percent = Survival_by_Fare_ratio*100\n",
    "Survival_by_Fare_percent.round(2)"
   ]
  },
  {
   "cell_type": "code",
   "execution_count": 1537,
   "metadata": {
    "collapsed": false
   },
   "outputs": [],
   "source": [
    "### creating new class to recode the fair group removing the £ as it is creating problem\n",
    "Fare_group_class = pd.Categorical(titanic_dataframe[\"Fare_group\"])\n",
    "Fare_group_class = Fare_group_class.rename_categories([\"Free\",\">=50\",\">=150\",\">=250\",\"<250\"])\n",
    "titanic_dataframe['Fare_group_class']= pd.Categorical(titanic_dataframe[\"Fare_group\"])\n",
    "titanic_dataframe['Fare_group_class'] = Fare_group_class.rename_categories([\"Free\",\">=50\",\">=150\",\">=250\",\"<250\"])\n"
   ]
  },
  {
   "cell_type": "code",
   "execution_count": 1538,
   "metadata": {
    "collapsed": false
   },
   "outputs": [
    {
     "data": {
      "image/png": "[encoded data removed]",
      "text/plain": [
       "<matplotlib.figure.Figure at 0x269988d0>"
      ]
     },
     "metadata": {},
     "output_type": "display_data"
    }
   ],
   "source": [
    "ax = sns.barplot(x=\"Fare_group_class\", y=\"Survived\",data=titanic_dataframe);\n",
    "ax.set(xlabel='Fare', ylabel='Survived Proportion')\n",
    "plt.show()"
   ]
  },
  {
   "cell_type": "markdown",
   "metadata": {},
   "source": [
    "Only 6.67% of those who did not pay survived in contrast 77.78% of those who paid more than £250 survived. With the exception of those who paid Between £150 and £250 the graph shows clear relationship between increasing number of survivors and higher fare payments. "
   ]
  },
  {
   "cell_type": "markdown",
   "metadata": {},
   "source": [
    "#### Chi- Square Test - testing the indepence between Fare paid and survival\n",
    "H0: The population mean of survived passenger is the same for all the passengers regardless of the fare the paid\n",
    "HA: The population mean of survived passengers difference with the amount fare paid for ticket.\n",
    "Population mean of passengers who get free ticket= µ1\n",
    "Population mean of passengers who paid less or equal to £50.00 = µ2  \n",
    "Population mean of passengers who paid less or equal to £150.00 = µ3 \n",
    "Population mean of passengers who paid less or equal to £250.00 = µ4  \n",
    "Population mean of passengers who paid greater than £250.00 = µ5 \n",
    "α = 0.05\n",
    "\n",
    "H0:  µ3 = µ2 = µ3 = µ4       \n",
    "HA:   µ1 ≠ µ2 ≠ µ3 ≠ µ4"
   ]
  },
  {
   "cell_type": "code",
   "execution_count": 1539,
   "metadata": {
    "collapsed": false
   },
   "outputs": [
    {
     "data": {
      "text/plain": [
       "(77.491395304464675,\n",
       " 5.9189876887433724e-16,\n",
       " 4L,\n",
       " array([[   9.24242424,  441.17171717,   80.71717172,   12.32323232,\n",
       "            5.54545455],\n",
       "        [   5.75757576,  274.82828283,   50.28282828,    7.67676768,\n",
       "            3.45454545]]))"
      ]
     },
     "execution_count": 1539,
     "metadata": {},
     "output_type": "execute_result"
    }
   ],
   "source": [
    "from scipy.stats import chi2_contingency\n",
    "chi2_contingency(pd.crosstab(titanic_dataframe.Survived, titanic_dataframe.Fare_group_Class))"
   ]
  },
  {
   "cell_type": "markdown",
   "metadata": {},
   "source": [
    "The P-value is almost 5.9189876887433724e-16. So the null hypothesis is not acceptable. In order to avoid type one error, we need to make additional test to see which group is more influencial. However, what we have seen so far will give us confidence to say that the Fare paid has effect on survival. "
   ]
  },
  {
   "cell_type": "markdown",
   "metadata": {},
   "source": [
    "## 3.3.4 Socio-economic Class and Survival"
   ]
  },
  {
   "cell_type": "code",
   "execution_count": 1540,
   "metadata": {
    "collapsed": false
   },
   "outputs": [
    {
     "data": {
      "text/plain": [
       "1    216\n",
       "2    184\n",
       "3    491\n",
       "Name: Pclass, dtype: int64"
      ]
     },
     "execution_count": 1540,
     "metadata": {},
     "output_type": "execute_result"
    }
   ],
   "source": [
    "titanic_dataframe.Pclass.value_counts(sort=False)"
   ]
  },
  {
   "cell_type": "markdown",
   "metadata": {},
   "source": [
    "The passengers were of three class. Upper, Middle and lower class."
   ]
  },
  {
   "cell_type": "code",
   "execution_count": 1541,
   "metadata": {
    "collapsed": false
   },
   "outputs": [
    {
     "data": {
      "text/plain": [
       "Upper_Class     216\n",
       "Middle_Class    184\n",
       "Lower_Class     491\n",
       "dtype: int64"
      ]
     },
     "execution_count": 1541,
     "metadata": {},
     "output_type": "execute_result"
    }
   ],
   "source": [
    "#catogorizing the value of the Pclass\n",
    "Passengers_Class = pd.Categorical(titanic_dataframe[\"Pclass\"])\n",
    "Passengers_Class = Passengers_Class.rename_categories([\"Upper_Class\",\"Middle_Class\",\"Lower_Class\"])\n",
    "titanic_dataframe['Passengers_Class']= pd.Categorical(titanic_dataframe[\"Pclass\"])\n",
    "titanic_dataframe['Passengers_Class'] = Passengers_Class.rename_categories([\"Upper_Class\",\"Middle_Class\",\"Lower_Class\"])\n",
    "titanic_dataframe.Passengers_Class.value_counts(sort=False)"
   ]
  },
  {
   "cell_type": "code",
   "execution_count": 1542,
   "metadata": {
    "collapsed": false
   },
   "outputs": [
    {
     "name": "stdout",
     "output_type": "stream",
     "text": [
      "Percentage_of_UC_Survived = 62.962962963\n",
      "Percentage_of_MC_Survived = 47.2826086957\n",
      "Percentage_of_LC_Survived = 24.2362525458\n"
     ]
    }
   ],
   "source": [
    "Number_of_UC= len(titanic_dataframe[titanic_dataframe['Passengers_Class'] == 'Upper_Class'])\n",
    "Number_of_MC=len(titanic_dataframe[titanic_dataframe['Passengers_Class'] == 'Middle_Class'])\n",
    "Number_of_LC=len(titanic_dataframe[titanic_dataframe['Passengers_Class'] == 'Lower_Class'])\n",
    "Number_of_UC_survived= len(titanic_dataframe[(titanic_dataframe['Passengers_Class'] == 'Upper_Class') & (titanic_dataframe['Passengers_survival'] == \"Survived\")])\n",
    "Number_of_MC_survived= len(titanic_dataframe[(titanic_dataframe['Passengers_Class'] == 'Middle_Class') & (titanic_dataframe['Passengers_survival'] == \"Survived\")])\n",
    "Number_of_LC_survived= len(titanic_dataframe[(titanic_dataframe['Passengers_Class'] == 'Lower_Class') & (titanic_dataframe['Passengers_survival'] == \"Survived\")])\n",
    "Percentage_of_UC_Survived= (Number_of_UC_survived*1.0/Number_of_UC)*100\n",
    "Percentage_of_MC_Survived= (Number_of_MC_survived*1.0/Number_of_MC)*100\n",
    "Percentage_of_LC_Survived= (Number_of_LC_survived*1.0/Number_of_LC)*100\n",
    "print '{} = {}'.format('Percentage_of_UC_Survived', Percentage_of_UC_Survived)\n",
    "print '{} = {}'.format('Percentage_of_MC_Survived', Percentage_of_MC_Survived)\n",
    "print '{} = {}'.format('Percentage_of_LC_Survived', Percentage_of_LC_Survived)"
   ]
  },
  {
   "cell_type": "code",
   "execution_count": 1543,
   "metadata": {
    "collapsed": false
   },
   "outputs": [
    {
     "data": {
      "text/plain": [
       "(<module 'matplotlib.pyplot' from 'C:\\Users\\Rahel G G\\Anaconda2\\lib\\site-packages\\matplotlib\\pyplot.pyc'>,\n",
       " <matplotlib.text.Text at 0x252ec2e8>)"
      ]
     },
     "execution_count": 1543,
     "metadata": {},
     "output_type": "execute_result"
    },
    {
     "data": {
      "image/png": "[encoded data removed]",
      "text/plain": [
       "<matplotlib.figure.Figure at 0x2562c668>"
      ]
     },
     "metadata": {},
     "output_type": "display_data"
    }
   ],
   "source": [
    "sns.factorplot(x='Passengers_Class', y= 'Survived', data= titanic_dataframe, kind =\"bar\", ci=None)\n",
    "plt.xlabel('Socio-economic Class')\n",
    "plt,ylabel('Proportion of Survived')"
   ]
  },
  {
   "cell_type": "code",
   "execution_count": 1544,
   "metadata": {
    "collapsed": false
   },
   "outputs": [
    {
     "data": {
      "text/html": [
       "<div>\n",
       "<table border=\"1\" class=\"dataframe\">\n",
       "  <thead>\n",
       "    <tr style=\"text-align: right;\">\n",
       "      <th>Passengers_Class</th>\n",
       "      <th>Upper_Class</th>\n",
       "      <th>Middle_Class</th>\n",
       "      <th>Lower_Class</th>\n",
       "    </tr>\n",
       "    <tr>\n",
       "      <th>Passengers_survival</th>\n",
       "      <th></th>\n",
       "      <th></th>\n",
       "      <th></th>\n",
       "    </tr>\n",
       "  </thead>\n",
       "  <tbody>\n",
       "    <tr>\n",
       "      <th>Not Survived</th>\n",
       "      <td>37.037037</td>\n",
       "      <td>52.717391</td>\n",
       "      <td>75.763747</td>\n",
       "    </tr>\n",
       "    <tr>\n",
       "      <th>Survived</th>\n",
       "      <td>62.962963</td>\n",
       "      <td>47.282609</td>\n",
       "      <td>24.236253</td>\n",
       "    </tr>\n",
       "  </tbody>\n",
       "</table>\n",
       "</div>"
      ],
      "text/plain": [
       "Passengers_Class     Upper_Class  Middle_Class  Lower_Class\n",
       "Passengers_survival                                        \n",
       "Not Survived           37.037037     52.717391    75.763747\n",
       "Survived               62.962963     47.282609    24.236253"
      ]
     },
     "execution_count": 1544,
     "metadata": {},
     "output_type": "execute_result"
    }
   ],
   "source": [
    "survived_by_class=pd.crosstab(index=titanic_dataframe['Passengers_survival'], columns=titanic_dataframe['Passengers_Class'])\n",
    "class_ratio = survived_by_class.div(survived_by_class.sum())\n",
    "class_percent = class_ratio*100\n",
    "class_percent"
   ]
  },
  {
   "cell_type": "markdown",
   "metadata": {},
   "source": [
    "The survived percent accross the socio-economic class was 62.96%,47.28% and 24.23% for upper, middle and lower class respectively. It increases with the class. "
   ]
  },
  {
   "cell_type": "markdown",
   "metadata": {},
   "source": [
    "#### Chi- Square Test - Testing the Indepence between Passengers Class and Survival\n",
    "H0: The population mean of survived passenger is the same for all the passengers regardless of the fare the paid\n",
    "HA: The population mean of survived passenger difference with the amount of ticket fare paid.\n",
    "Population mean of upper class passenger = µ1\n",
    "Population mean of middle class passenger = µ2  \n",
    "Population mean of lower class passenger = µ3 \n",
    " \n",
    "α = 0.05\n",
    "\n",
    "H0:  µuc = µmc = µlc      \n",
    "HA:   µuc ≠ µmc ≠ µlc"
   ]
  },
  {
   "cell_type": "code",
   "execution_count": 1545,
   "metadata": {
    "collapsed": false
   },
   "outputs": [
    {
     "data": {
      "text/plain": [
       "(102.88898875696056,\n",
       " 4.5492517112987927e-23,\n",
       " 2L,\n",
       " array([[ 133.09090909,  113.37373737,  302.53535354],\n",
       "        [  82.90909091,   70.62626263,  188.46464646]]))"
      ]
     },
     "execution_count": 1545,
     "metadata": {},
     "output_type": "execute_result"
    }
   ],
   "source": [
    "from scipy.stats import chi2_contingency\n",
    "chi2_contingency(pd.crosstab(titanic_dataframe.Survived, titanic_dataframe.Passengers_Class))"
   ]
  },
  {
   "cell_type": "markdown",
   "metadata": {},
   "source": [
    "In addition to the contigency tables, the P-value is almost 0(4.5492517112987927e-23). Hence, I fail to accept the null hypothesis and conclude that the fare paid was related to survival."
   ]
  },
  {
   "cell_type": "markdown",
   "metadata": {},
   "source": [
    "### 3.3.5 Presence of Family Members on Board and Survival"
   ]
  },
  {
   "cell_type": "markdown",
   "metadata": {},
   "source": [
    "#### Frequency of passengers who were with their siblings or spouses. "
   ]
  },
  {
   "cell_type": "code",
   "execution_count": 1546,
   "metadata": {
    "collapsed": false
   },
   "outputs": [
    {
     "data": {
      "text/plain": [
       "0    608\n",
       "1    209\n",
       "2     28\n",
       "3     16\n",
       "4     18\n",
       "5      5\n",
       "8      7\n",
       "Name: SibSp, dtype: int64"
      ]
     },
     "execution_count": 1546,
     "metadata": {},
     "output_type": "execute_result"
    }
   ],
   "source": [
    "titanic_dataframe.SibSp.value_counts(sort=False)"
   ]
  },
  {
   "cell_type": "markdown",
   "metadata": {},
   "source": [
    "#### Frequency of passenger with their parents or children"
   ]
  },
  {
   "cell_type": "code",
   "execution_count": 1547,
   "metadata": {
    "collapsed": false
   },
   "outputs": [
    {
     "data": {
      "text/plain": [
       "0    678\n",
       "1    118\n",
       "2     80\n",
       "3      5\n",
       "4      4\n",
       "5      5\n",
       "6      1\n",
       "Name: Parch, dtype: int64"
      ]
     },
     "execution_count": 1547,
     "metadata": {},
     "output_type": "execute_result"
    }
   ],
   "source": [
    "titanic_dataframe.Parch.value_counts(sort=False)"
   ]
  },
  {
   "cell_type": "markdown",
   "metadata": {},
   "source": [
    "I will create a new variable with inorder to see the having any afamily member in the board either spouses, children, siblings or parents."
   ]
  },
  {
   "cell_type": "code",
   "execution_count": 1548,
   "metadata": {
    "collapsed": false,
    "scrolled": true
   },
   "outputs": [
    {
     "data": {
      "text/plain": [
       "0     537\n",
       "1     161\n",
       "2     102\n",
       "3      29\n",
       "4      15\n",
       "5      22\n",
       "6      12\n",
       "7       6\n",
       "10      7\n",
       "Name: Family_member, dtype: int64"
      ]
     },
     "execution_count": 1548,
     "metadata": {},
     "output_type": "execute_result"
    }
   ],
   "source": [
    "titanic_dataframe['Family_member'] = titanic_dataframe['SibSp'] + titanic_dataframe['Parch']\n",
    "titanic_dataframe.Family_member.value_counts(sort=False)"
   ]
  },
  {
   "cell_type": "markdown",
   "metadata": {},
   "source": [
    "Most of the passengers were alone(without any close family memember)."
   ]
  },
  {
   "cell_type": "code",
   "execution_count": 1549,
   "metadata": {
    "collapsed": false
   },
   "outputs": [
    {
     "data": {
      "text/plain": [
       "(<module 'matplotlib.pyplot' from 'C:\\Users\\Rahel G G\\Anaconda2\\lib\\site-packages\\matplotlib\\pyplot.pyc'>,\n",
       " <matplotlib.text.Text at 0x2582bc88>)"
      ]
     },
     "execution_count": 1549,
     "metadata": {},
     "output_type": "execute_result"
    },
    {
     "data": {
      "image/png": "[encoded data removed]",
      "text/plain": [
       "<matplotlib.figure.Figure at 0x252ec940>"
      ]
     },
     "metadata": {},
     "output_type": "display_data"
    }
   ],
   "source": [
    "\n",
    "sns.factorplot(x='Family_member', y= 'Survived', data= titanic_dataframe, kind =\"bar\", ci=None)\n",
    "plt.xlabel('Number of Family Memeber')\n",
    "plt,ylabel('Proportion of survived')\n"
   ]
  },
  {
   "cell_type": "code",
   "execution_count": 1550,
   "metadata": {
    "collapsed": false
   },
   "outputs": [
    {
     "data": {
      "text/html": [
       "<div>\n",
       "<table border=\"1\" class=\"dataframe\">\n",
       "  <thead>\n",
       "    <tr style=\"text-align: right;\">\n",
       "      <th>Family_member</th>\n",
       "      <th>0</th>\n",
       "      <th>1</th>\n",
       "      <th>2</th>\n",
       "      <th>3</th>\n",
       "      <th>4</th>\n",
       "      <th>5</th>\n",
       "      <th>6</th>\n",
       "      <th>7</th>\n",
       "      <th>10</th>\n",
       "    </tr>\n",
       "    <tr>\n",
       "      <th>Passengers_survival</th>\n",
       "      <th></th>\n",
       "      <th></th>\n",
       "      <th></th>\n",
       "      <th></th>\n",
       "      <th></th>\n",
       "      <th></th>\n",
       "      <th></th>\n",
       "      <th></th>\n",
       "      <th></th>\n",
       "    </tr>\n",
       "  </thead>\n",
       "  <tbody>\n",
       "    <tr>\n",
       "      <th>Not Survived</th>\n",
       "      <td>69.646182</td>\n",
       "      <td>44.720497</td>\n",
       "      <td>42.156863</td>\n",
       "      <td>27.586207</td>\n",
       "      <td>80.0</td>\n",
       "      <td>86.363636</td>\n",
       "      <td>66.666667</td>\n",
       "      <td>100.0</td>\n",
       "      <td>100.0</td>\n",
       "    </tr>\n",
       "    <tr>\n",
       "      <th>Survived</th>\n",
       "      <td>30.353818</td>\n",
       "      <td>55.279503</td>\n",
       "      <td>57.843137</td>\n",
       "      <td>72.413793</td>\n",
       "      <td>20.0</td>\n",
       "      <td>13.636364</td>\n",
       "      <td>33.333333</td>\n",
       "      <td>0.0</td>\n",
       "      <td>0.0</td>\n",
       "    </tr>\n",
       "  </tbody>\n",
       "</table>\n",
       "</div>"
      ],
      "text/plain": [
       "Family_member               0          1          2          3     4   \\\n",
       "Passengers_survival                                                     \n",
       "Not Survived         69.646182  44.720497  42.156863  27.586207  80.0   \n",
       "Survived             30.353818  55.279503  57.843137  72.413793  20.0   \n",
       "\n",
       "Family_member               5          6      7      10  \n",
       "Passengers_survival                                      \n",
       "Not Survived         86.363636  66.666667  100.0  100.0  \n",
       "Survived             13.636364  33.333333    0.0    0.0  "
      ]
     },
     "execution_count": 1550,
     "metadata": {},
     "output_type": "execute_result"
    }
   ],
   "source": [
    "survived_by_family_members=pd.crosstab(index=titanic_dataframe['Passengers_survival'], columns=titanic_dataframe['Family_member'])\n",
    "survival_ratio = survived_by_family_members.div(survived_by_family_members.sum())\n",
    "survival_percent = survival_ratio*100\n",
    "survival_percent"
   ]
  },
  {
   "cell_type": "markdown",
   "metadata": {
    "collapsed": false
   },
   "source": [
    "The result shows the survived proportion increases steadily for those who have boarded with one, two and three family members. But the is a sharp fall in the passengers with four and five family mebers with slightly higher for those with six and none for those with seven and ten family members."
   ]
  },
  {
   "cell_type": "markdown",
   "metadata": {
    "collapsed": false
   },
   "source": [
    "# 3.4 Conclusion "
   ]
  },
  {
   "cell_type": "markdown",
   "metadata": {},
   "source": [
    "The results shows that some demography and socio-economic factors had relation with survival.Survival and sex were highly correlated. The mean polulation of survived females is greater than the mean population of survived male.When it is compared with adults(greater than 10 years of age) with children less or equal to 10 years old, the percentage was high among the children.Priority might have been given to women and children to get in to the lifeboats first. However the analysis can not imply causation but there were more survivers of children and women. \n",
    "\n",
    "In addition to the demographic factors, those from higher socio-ecnomic class and those who paid higher fare survived more than those of lower socio-economic class and those who paid lesser amount or not at all. However this relationship does not explain causation. Weather boarding with other family member or being alone does not have clear relationship to survival.\n",
    "\n",
    "The demographic and socio-economic factors that have relationship with survival do not neccesaly cause the survival as correlation does not mean causation. There could be many Lurking variables that cause the survival.\n",
    "\n",
    "\n",
    "\n"
   ]
  },
  {
   "cell_type": "markdown",
   "metadata": {},
   "source": [
    "## Reference\n",
    "1. Kaggel,(2012).Titanic: Machine Learning from Disaster: Retrieved from https://www.kaggle.com/c/titanic                                           \n",
    "2. Stat trek,(2016).Teach yourself Statistics: Chi-Square test of indepence: Retrieved from http://stattrek.com/chi-square-test/independence.aspx       \n",
    "3. Fowler,D(2011).Titanic Facts: The Life and Lose of the RMS Titanic in Numbers: Retrieved from http://www.titanicfacts.net/titanic-lifeboats.html\n",
    "4. The Pandas Development Team(2008).Pandas 0.18.1 Documentation:Retrieved from http://pandas.pydata.org/"
   ]
  }
 ],
 "metadata": {
  "celltoolbar": "Raw Cell Format",
  "kernelspec": {
   "display_name": "Python 2",
   "language": "python",
   "name": "python2"
  },
  "language_info": {
   "codemirror_mode": {
    "name": "ipython",
    "version": 2
   },
   "file_extension": ".py",
   "mimetype": "text/x-python",
   "name": "python",
   "nbconvert_exporter": "python",
   "pygments_lexer": "ipython2",
   "version": "2.7.11"
  }
 },
 "nbformat": 4,
 "nbformat_minor": 0
}
